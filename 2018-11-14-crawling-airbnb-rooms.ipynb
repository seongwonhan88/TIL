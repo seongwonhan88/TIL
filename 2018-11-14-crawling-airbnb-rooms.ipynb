{
 "cells": [
  {
   "cell_type": "code",
   "execution_count": 4,
   "metadata": {},
   "outputs": [],
   "source": [
    "from selenium import webdriver\n",
    "from bs4 import BeautifulSoup\n",
    "driver = webdriver.Chrome('./chromedriver')\n",
    "driver.get('https://www.airbnb.co.kr/rooms/8213750')"
   ]
  },
  {
   "cell_type": "code",
   "execution_count": 26,
   "metadata": {},
   "outputs": [
    {
     "data": {
      "text/plain": [
       "['로프트 전체', '\"SEOUL Station\" Cozy&Relax place', '서울특별시', 'Kenny & Kelly']"
      ]
     },
     "execution_count": 26,
     "metadata": {},
     "output_type": "execute_result"
    }
   ],
   "source": [
    "summary = driver.find_element_by_id('summary').text.split('\\n')\n",
    "# 0 = type / 1 = title / 2 = location / 3 = owner\n",
    "summary"
   ]
  },
  {
   "cell_type": "code",
   "execution_count": 28,
   "metadata": {},
   "outputs": [
    {
     "data": {
      "text/plain": [
       "['편의시설', '엘리베이터', '주방', '무선 인터넷', '건조기', '다리미']"
      ]
     },
     "execution_count": 28,
     "metadata": {},
     "output_type": "execute_result"
    }
   ],
   "source": [
    "amenities = driver.find_element_by_id('amenities').text.split('\\n')\n",
    "amenities[0:6]"
   ]
  },
  {
   "cell_type": "code",
   "execution_count": 32,
   "metadata": {},
   "outputs": [
    {
     "data": {
      "text/plain": [
       "['숙소 이용규칙',\n",
       " '흡연 금지',\n",
       " '반려동물 동반 불가',\n",
       " '파티나 이벤트 금지',\n",
       " '체크인 가능 시간: 15:00 이후',\n",
       " '체크아웃: 12:00까지',\n",
       " '키패드(으)로 셀프 체크인']"
      ]
     },
     "execution_count": 32,
     "metadata": {},
     "output_type": "execute_result"
    }
   ],
   "source": [
    "house_rules = driver.find_element_by_id('house-rules').text.split('\\n')\n",
    "house_rules[0:7]"
   ]
  },
  {
   "cell_type": "code",
   "execution_count": 52,
   "metadata": {},
   "outputs": [
    {
     "name": "stdout",
     "output_type": "stream",
     "text": [
      "󰄂\n",
      "인원 4명\n",
      "원룸\n",
      "침대 2개\n",
      "욕실 1개\n"
     ]
    }
   ],
   "source": [
    "options = driver.find_elements_by_xpath('//*[@id=\"room\"]/div[3]/div/div[2]/div[1]/div/div/div[3]/div/div/div[1]/div')\n",
    "for option in options:\n",
    "    print(option.text)"
   ]
  },
  {
   "cell_type": "code",
   "execution_count": 40,
   "metadata": {},
   "outputs": [],
   "source": [
    "# h2 = driver.find_elements_by_tag_name('h2')\n",
    "# for title in h2: \n",
    "#     print(title.text.split('\\n'))"
   ]
  },
  {
   "cell_type": "code",
   "execution_count": 54,
   "metadata": {},
   "outputs": [],
   "source": [
    "items = driver.find_elements_by_xpath('//*[@id=\"room\"]/div[3]/div/div[2]/div[1]/div/div/div[3]/div/div')"
   ]
  },
  {
   "cell_type": "code",
   "execution_count": 55,
   "metadata": {},
   "outputs": [
    {
     "name": "stdout",
     "output_type": "stream",
     "text": [
      "󰄂\n",
      "인원 4명\n",
      "원룸\n",
      "침대 2개\n",
      "욕실 1개\n",
      "󰄄\n",
      "셀프 체크인\n",
      "키패드를 이용해 간편하게 체크인하세요.\n",
      "󰀃\n",
      "Kenny & Kelly님은 슈퍼호스트입니다\n",
      "슈퍼호스트는 풍부한 경험과 높은 평점을 자랑하며 게스트가 숙소에서 편안히 머무를 수 있도록 최선을 다하는 호스트입니다.\n"
     ]
    }
   ],
   "source": [
    "for item in items:\n",
    "    print(item.text)"
   ]
  },
  {
   "cell_type": "code",
   "execution_count": 56,
   "metadata": {},
   "outputs": [],
   "source": [
    "string = 'listing-1234123'"
   ]
  },
  {
   "cell_type": "code",
   "execution_count": 58,
   "metadata": {},
   "outputs": [
    {
     "data": {
      "text/plain": [
       "'1234123'"
      ]
     },
     "execution_count": 58,
     "metadata": {},
     "output_type": "execute_result"
    }
   ],
   "source": [
    "string[8:]"
   ]
  },
  {
   "cell_type": "code",
   "execution_count": null,
   "metadata": {},
   "outputs": [],
   "source": []
  }
 ],
 "metadata": {
  "kernelspec": {
   "display_name": "Python 3",
   "language": "python",
   "name": "python3"
  },
  "language_info": {
   "codemirror_mode": {
    "name": "ipython",
    "version": 3
   },
   "file_extension": ".py",
   "mimetype": "text/x-python",
   "name": "python",
   "nbconvert_exporter": "python",
   "pygments_lexer": "ipython3",
   "version": "3.6.6"
  }
 },
 "nbformat": 4,
 "nbformat_minor": 2
}
