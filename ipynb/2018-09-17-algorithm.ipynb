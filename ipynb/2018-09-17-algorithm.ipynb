{
 "cells": [
  {
   "cell_type": "markdown",
   "metadata": {},
   "source": [
    "# 알고리즘"
   ]
  },
  {
   "cell_type": "markdown",
   "metadata": {},
   "source": [
    "### 순차검색"
   ]
  },
  {
   "cell_type": "markdown",
   "metadata": {},
   "source": [
    "1. 문자열과 키 문자 한개를 받는 함수구현 \n",
    "2. while 문을 이용, 문자열에서 키가 존재하는 index 위치 검사 후 해당 index 리턴\n",
    "3. 찾지 못할 경우 -1을 리턴"
   ]
  },
  {
   "cell_type": "code",
   "execution_count": 5,
   "metadata": {},
   "outputs": [],
   "source": [
    "sample = \"ABCDEFGHIJKLMN\"\n",
    "\n",
    "def sequencial_search(string, key):\n",
    "    i = 0 \n",
    "    while i < len(string):\n",
    "        if string[i] == key:\n",
    "            return i\n",
    "        i += 1\n",
    "    else:\n",
    "        return -1"
   ]
  },
  {
   "cell_type": "code",
   "execution_count": 10,
   "metadata": {},
   "outputs": [
    {
     "name": "stdout",
     "output_type": "stream",
     "text": [
      "-1\n"
     ]
    }
   ],
   "source": [
    "result = sequencial_search('ABCDE','F')\n",
    "print(result)"
   ]
  },
  {
   "cell_type": "markdown",
   "metadata": {},
   "source": [
    "### index 0 부터 증가시키면서 원하는 타겟이 나올 때 까지 비교한다."
   ]
  },
  {
   "cell_type": "markdown",
   "metadata": {},
   "source": [
    "### 선택정렬"
   ]
  },
  {
   "cell_type": "code",
   "execution_count": 1,
   "metadata": {
    "scrolled": true
   },
   "outputs": [
    {
     "name": "stdout",
     "output_type": "stream",
     "text": [
      "current x loop is: 0\n",
      "current list [0, 1, 6, 8, 4, 3, 2, 9, 5, 7]\n",
      "current x loop is: 1\n",
      "current list [0, 1, 6, 8, 4, 3, 2, 9, 5, 7]\n",
      "current x loop is: 2\n",
      "current list [0, 1, 2, 8, 4, 3, 6, 9, 5, 7]\n",
      "current x loop is: 3\n",
      "current list [0, 1, 2, 3, 4, 8, 6, 9, 5, 7]\n",
      "current x loop is: 4\n",
      "current list [0, 1, 2, 3, 4, 8, 6, 9, 5, 7]\n",
      "current x loop is: 5\n",
      "current list [0, 1, 2, 3, 4, 5, 6, 9, 8, 7]\n",
      "current x loop is: 6\n",
      "current list [0, 1, 2, 3, 4, 5, 6, 9, 8, 7]\n",
      "current x loop is: 7\n",
      "current list [0, 1, 2, 3, 4, 5, 6, 7, 8, 9]\n",
      "current x loop is: 8\n",
      "current list [0, 1, 2, 3, 4, 5, 6, 7, 8, 9]\n"
     ]
    }
   ],
   "source": [
    "sample = [9,1,6,8,4,3,2,0,5,7]\n",
    "len_list = len(sample)\n",
    "\n",
    "for x in range(len_list-1):\n",
    "    print(f'current x loop is: {x}')\n",
    "    cur_min_index = x\n",
    "    for index in range(x, len_list):\n",
    "        if sample[cur_min_index] > sample[index]:\n",
    "            cur_min_index = index\n",
    "            \n",
    "#     print(f'{x} loop {sample}')\n",
    "#     print(f'{x} th loop\\'s index is {cur_min_index}, value is {sample[cur_min_index]}')\n",
    "    \n",
    "    sample[cur_min_index],sample[x] = sample[x], sample[cur_min_index]\n",
    "    print(f'current list {sample}')\n",
    "    "
   ]
  },
  {
   "cell_type": "code",
   "execution_count": 59,
   "metadata": {},
   "outputs": [],
   "source": [
    "sample = [9,1,6,8,4,3,2,0,5,7]\n",
    "len_sample = len(sample)"
   ]
  },
  {
   "cell_type": "code",
   "execution_count": 60,
   "metadata": {
    "scrolled": true
   },
   "outputs": [
    {
     "name": "stdout",
     "output_type": "stream",
     "text": [
      "10\n"
     ]
    }
   ],
   "source": [
    "print(len_sample)"
   ]
  },
  {
   "cell_type": "code",
   "execution_count": 61,
   "metadata": {},
   "outputs": [
    {
     "name": "stdout",
     "output_type": "stream",
     "text": [
      "current lowest 9\n",
      "current lowest 1\n",
      "current lowest 6\n",
      "current lowest 8\n",
      "current lowest 4\n",
      "current lowest 8\n",
      "current lowest 6\n",
      "current lowest 9\n",
      "current lowest 8\n"
     ]
    }
   ],
   "source": [
    "for x in range(len_sample-1):\n",
    "    lowest = x # 한번 루프 돌면 잘라내서 2번부터 시작하니까 2번이 가장 낮은 인덱스!!\n",
    "    print(f'current lowest {sample[lowest]}')\n",
    "    for index in range(x, len_sample):\n",
    "        if sample[index] < sample[lowest]:\n",
    "            lowest = index\n",
    "    sample[x],sample[lowest] = sample[lowest], sample[x]\n",
    "            "
   ]
  },
  {
   "cell_type": "code",
   "execution_count": 57,
   "metadata": {},
   "outputs": [
    {
     "name": "stdout",
     "output_type": "stream",
     "text": [
      "[0, 1, 2, 3, 4, 5, 6, 7, 8, 9]\n"
     ]
    }
   ],
   "source": [
    "print(sample)"
   ]
  },
  {
   "cell_type": "code",
   "execution_count": null,
   "metadata": {},
   "outputs": [],
   "source": []
  }
 ],
 "metadata": {
  "kernelspec": {
   "display_name": "Python 3",
   "language": "python",
   "name": "python3"
  },
  "language_info": {
   "codemirror_mode": {
    "name": "ipython",
    "version": 3
   },
   "file_extension": ".py",
   "mimetype": "text/x-python",
   "name": "python",
   "nbconvert_exporter": "python",
   "pygments_lexer": "ipython3",
   "version": "3.6.6"
  }
 },
 "nbformat": 4,
 "nbformat_minor": 2
}
