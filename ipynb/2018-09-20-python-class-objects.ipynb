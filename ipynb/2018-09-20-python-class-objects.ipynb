{
 "cells": [
  {
   "cell_type": "markdown",
   "metadata": {},
   "source": [
    "# Class & Object"
   ]
  },
  {
   "cell_type": "markdown",
   "metadata": {},
   "source": [
    "## 객체 Object란 무엇인가\n",
    "한마디로 ***커스텀 자료구조***  \n",
    "객체는 **Attribute(변수/속성)와 Method(함수)** 두 가지를 포함한다.  "
   ]
  },
  {
   "cell_type": "markdown",
   "metadata": {},
   "source": [
    "### `class` 선언하기  \n",
    "클래스는 '구조의 틀'이라고 말할 수 있다. 클래스 선언은 아래와 같이 한다."
   ]
  },
  {
   "cell_type": "code",
   "execution_count": 1,
   "metadata": {},
   "outputs": [],
   "source": [
    "class Person():\n",
    "    pass"
   ]
  },
  {
   "cell_type": "markdown",
   "metadata": {},
   "source": [
    "위에 보여지는 클래스는 빈 클래스 이며, 객체를 생성하기 위한 최소한의 정의다.  \n",
    "함수처럼 클래스 이름을 호출하여 클래스로부터 객체를 생성할 수 있다.  "
   ]
  },
  {
   "cell_type": "code",
   "execution_count": 2,
   "metadata": {},
   "outputs": [],
   "source": [
    "someone = Person()"
   ]
  },
  {
   "cell_type": "markdown",
   "metadata": {},
   "source": [
    "위와 같은 방법으로 `someone` 이라는 변수에 클래스를 할당했지만, Person 클래스는 비어있기 때문에 아무 역할도 하지 않는다.  "
   ]
  },
  {
   "cell_type": "markdown",
   "metadata": {},
   "source": [
    "### 객체 초기화  \n",
    "아래와 같은 방법으로 클래스를 초기화 해본다."
   ]
  },
  {
   "cell_type": "code",
   "execution_count": 3,
   "metadata": {},
   "outputs": [],
   "source": [
    "class Person():\n",
    "    def __init__(self):\n",
    "        pass"
   ]
  },
  {
   "cell_type": "markdown",
   "metadata": {},
   "source": [
    "`__init__` 함수를 호출하면서 `self`를 첫 번째 매개변수로 할당한다. `self`는 예약어가 아니지만 이반적으로 이렇게 사용한다.  \n",
    "위에 초기화 한 객체 또한 아무런 역할을 하지 않는다. 무언가를 하는 객체를 아래와 같이 만들어본다. "
   ]
  },
  {
   "cell_type": "code",
   "execution_count": 4,
   "metadata": {},
   "outputs": [],
   "source": [
    "class Person():\n",
    "    def __init__(self, name):\n",
    "        self.name = name"
   ]
  },
  {
   "cell_type": "markdown",
   "metadata": {},
   "source": [
    "Person 클래스는 name이라는 매개변수를 초기화 메서드에 추가하는데, 아래 예제를 보면 이해가 조금 더 쉽다."
   ]
  },
  {
   "cell_type": "code",
   "execution_count": 5,
   "metadata": {},
   "outputs": [],
   "source": [
    "someone = Person('Homer Simpson')"
   ]
  },
  {
   "cell_type": "code",
   "execution_count": 6,
   "metadata": {},
   "outputs": [
    {
     "data": {
      "text/plain": [
       "'Homer Simpson'"
      ]
     },
     "execution_count": 6,
     "metadata": {},
     "output_type": "execute_result"
    }
   ],
   "source": [
    "someone.name"
   ]
  },
  {
   "cell_type": "markdown",
   "metadata": {},
   "source": [
    "코드의 동작은 아래와 같은 순서로 진행된다.  \n",
    " - `Person class`의 정의를 찾는다.\n",
    " - 새 객체를 메모리에 초기화(생성)한다.\n",
    " - 객체의 `__init__` 메서드를 호출한다. 새롭게 생성된 객체를 `self`에 전달하고 인자(`'Homer Simpson'`)를 `name`에 전달한다. \n",
    " - 객체에 `name`값을 저장한다. \n",
    " - 새로운 객체를 반환한다\n",
    " - `someone`에 이 객체를 연결한다"
   ]
  },
  {
   "cell_type": "markdown",
   "metadata": {},
   "source": [
    "`someone` 의 `name` 값에는 객체의 속성이 저장되어 있으며, 이 속성은 직접 읽고 쓸 수 있다."
   ]
  },
  {
   "cell_type": "code",
   "execution_count": 8,
   "metadata": {},
   "outputs": [
    {
     "name": "stdout",
     "output_type": "stream",
     "text": [
      "My name is Homer Simpson\n"
     ]
    }
   ],
   "source": [
    "print('My name is',someone.name)"
   ]
  },
  {
   "cell_type": "markdown",
   "metadata": {},
   "source": [
    "*Person class에서 name 속성에 접근은 self.name으로 한다. someone이라는 객체를 생성하면 someone.name으로 여긴다.*  \n",
    "*모든 클래스에서 `__init__`메서드를 가질 필요는 없다.*"
   ]
  },
  {
   "cell_type": "markdown",
   "metadata": {},
   "source": [
    "## 상속  \n",
    "기존 클래스에서 일부를 추가하거나 변경하여 새로운 클래스를 생성하는 것을 말한다.  \n",
    "상속을 이용하면 새로운 클래스는 기존 클래스를 복사하지 않고, 기존 클래스의 모든 것을 쓸 수 있다.  \n",
    "기존 클래스는 **부모**/슈퍼/베이스 클래스라 불리며, 새 클래스는 **자식**/서브/파생 클래스라 불린다.  \n",
    "(편의상 부모 클래스, 자식 클래스라 부른다)"
   ]
  },
  {
   "cell_type": "markdown",
   "metadata": {},
   "source": [
    "위에서 만든 Person 클래스를 활용하여 상속의 개념을 이해해보자"
   ]
  },
  {
   "cell_type": "code",
   "execution_count": 15,
   "metadata": {},
   "outputs": [],
   "source": [
    "class Person():\n",
    "    def __init__(self, name):\n",
    "        self.name = name\n",
    "\n",
    "class Child(Person): # 상속받는 클래스를 괄호안에 넣어준다.\n",
    "    pass"
   ]
  },
  {
   "cell_type": "code",
   "execution_count": 16,
   "metadata": {},
   "outputs": [],
   "source": [
    "someone = Person('Homer Simpson')\n",
    "someone_else = Child('Bart Simpson')"
   ]
  },
  {
   "cell_type": "markdown",
   "metadata": {},
   "source": [
    "`someone_else`는 `Child` 새로운 클래스의 객체이지만 `Person`을 상속받기 때문에 부모 클래스와 같이 `self.name`이라는 초기화 함수를 상속받는다."
   ]
  },
  {
   "cell_type": "code",
   "execution_count": 17,
   "metadata": {},
   "outputs": [
    {
     "data": {
      "text/plain": [
       "'Bart Simpson'"
      ]
     },
     "execution_count": 17,
     "metadata": {},
     "output_type": "execute_result"
    }
   ],
   "source": [
    "someone_else.name"
   ]
  },
  {
   "cell_type": "markdown",
   "metadata": {},
   "source": [
    "### 메서드 오버라이드  \n",
    "자식 클래스가 상속받은 부모 클래스의 메서드를 덮어쓰고 싶을때는 어떻게 할까?  "
   ]
  },
  {
   "cell_type": "code",
   "execution_count": 25,
   "metadata": {},
   "outputs": [],
   "source": [
    "class Person():\n",
    "    def __init__(self, name):\n",
    "        self.name = name\n",
    "\n",
    "    def introduction(self):\n",
    "        print(f'Hey! my name is {self.name}! I am a parent!')\n",
    "        print('DOH!')\n",
    "\n",
    "class Child(Person): \n",
    "    def introduction(self):\n",
    "        print(f'Hey! my name is {self.name}! I am a child!')\n",
    "        print('Come on!')"
   ]
  },
  {
   "cell_type": "code",
   "execution_count": 26,
   "metadata": {},
   "outputs": [],
   "source": [
    "someone = Person('Homer Simpson')\n",
    "someone_else = Child('Bart Simpson')"
   ]
  },
  {
   "cell_type": "markdown",
   "metadata": {},
   "source": [
    "처음 만들때와 크게 다르지 않지만 이번에는 `introduction`이라는 메서드를 생성했다.  \n",
    "자식 클래스에서 `introduction` 메서드를 오버라이드를 하지 않는다면 `Person`으로부터 받은 메서드가 작동하겠지만  \n",
    "위와같이 같은 메서드를 입력하면 `Child`클래스 만의 별도 메서드가 출력된다. "
   ]
  },
  {
   "cell_type": "code",
   "execution_count": 30,
   "metadata": {},
   "outputs": [
    {
     "name": "stdout",
     "output_type": "stream",
     "text": [
      "Hey! my name is Homer Simpson! I am a parent!\n",
      "DOH!\n"
     ]
    }
   ],
   "source": [
    "someone.introduction()"
   ]
  },
  {
   "cell_type": "code",
   "execution_count": 31,
   "metadata": {},
   "outputs": [
    {
     "name": "stdout",
     "output_type": "stream",
     "text": [
      "Hey! my name is Bart Simpson! I am a child!\n",
      "Come on!\n"
     ]
    }
   ],
   "source": [
    "someone_else.introduction()"
   ]
  },
  {
   "cell_type": "markdown",
   "metadata": {},
   "source": [
    "## 메서드 추가하기  \n",
    "자식 클래스는 또한 부모 클래스에 없는 메서드를 추가할 수 있다. "
   ]
  },
  {
   "cell_type": "markdown",
   "metadata": {},
   "source": [
    "`Child`클래스에만 있는 `hobby()`메서드를 정의해보자 "
   ]
  },
  {
   "cell_type": "code",
   "execution_count": 32,
   "metadata": {},
   "outputs": [],
   "source": [
    "class Person():\n",
    "    def __init__(self, name):\n",
    "        self.name = name\n",
    "\n",
    "class Child(Person): \n",
    "    def hobby(self):\n",
    "        print('My hobby is skateboarding!')"
   ]
  },
  {
   "cell_type": "code",
   "execution_count": 33,
   "metadata": {},
   "outputs": [],
   "source": [
    "someone = Person('Homer Simpson')\n",
    "someone_else = Child('Bart Simpson')"
   ]
  },
  {
   "cell_type": "markdown",
   "metadata": {},
   "source": [
    "`someone_else`객체는 `hobby()`객체를 불러 올 수 있다."
   ]
  },
  {
   "cell_type": "code",
   "execution_count": 35,
   "metadata": {},
   "outputs": [
    {
     "name": "stdout",
     "output_type": "stream",
     "text": [
      "My hobby is skateboarding!\n"
     ]
    }
   ],
   "source": [
    "someone_else.hobby()"
   ]
  },
  {
   "cell_type": "markdown",
   "metadata": {},
   "source": [
    "### 부모에게 도움받기: super  \n",
    "자식 클래스에서 부모 클래스의 메서드를 호출할때 사용한다.  \n",
    "예제를 보면서 어떻게 부르는지 확인해보자"
   ]
  },
  {
   "cell_type": "code",
   "execution_count": 36,
   "metadata": {},
   "outputs": [],
   "source": [
    "class Person():\n",
    "    def __init__(self,name):\n",
    "        self.name = name\n",
    "\n",
    "class Child(Person):\n",
    "    def __init__(self, name, toy):\n",
    "        super().__init__(name)\n",
    "        self.toy = toy"
   ]
  },
  {
   "cell_type": "markdown",
   "metadata": {},
   "source": [
    "`Child` 클래스는 `name` 과 `toy`를 매개변수로 받지만 선언을 할 때에 `self.name`으로 하지 않았다.  \n",
    "위에 상속에서 언급했듯이 같은 내용의 메서드가 자식 클래스에 추가될 경우 오버라이드 됨에 따라 새로 정의를 해줘야 하는데,  \n",
    "부모 클래스가 받고 있는 `name`매개변수를 추가로 만들지 않기 위해서 `super().__init__`에 있는 것을 그대로 가져온 것을 볼 수 있다.   \n"
   ]
  },
  {
   "cell_type": "markdown",
   "metadata": {},
   "source": [
    "코드를 실행하면 아래와 같이 진행된다. \n",
    " - `super()`메서드는 부모 클래스`(Person)`의 정의를 얻는다\n",
    " - `__init__()` 메서드는 `Person.__init__()`메서드를 호출한다. 이 메서드는 `self` 인자를 부모 클래스로 전달하는 역할을 한다. 그러므로 부모 클래스에 어떤 선택적 인자를 제공하기만 하면 된다. 이 경우 `Person()`에서 받은 인자는 `name`이다.  \n",
    " - `self.toy = toy`는 `Child`클래스를 `Person`클래스와 다르게 만들어주는 새로운 코드다."
   ]
  },
  {
   "cell_type": "markdown",
   "metadata": {},
   "source": [
    "이제 `Child`객체를 만들어보자"
   ]
  },
  {
   "cell_type": "code",
   "execution_count": 39,
   "metadata": {},
   "outputs": [],
   "source": [
    "someone_else = Child('Bart Simpson','skateboard')"
   ]
  },
  {
   "cell_type": "code",
   "execution_count": 43,
   "metadata": {},
   "outputs": [
    {
     "name": "stdout",
     "output_type": "stream",
     "text": [
      "Bart Simpson\n",
      "skateboard\n"
     ]
    }
   ],
   "source": [
    "print(someone_else.name)\n",
    "print(someone_else.toy)"
   ]
  },
  {
   "cell_type": "markdown",
   "metadata": {},
   "source": [
    "## get/set 속성값과 property  \n",
    "Python 에서는 다른 언어와 다르게 getter 와 setter가 없지만 property를 활요하여 속성에 접근을 제어할 수 있다."
   ]
  },
  {
   "cell_type": "code",
   "execution_count": 54,
   "metadata": {},
   "outputs": [],
   "source": [
    "class Person():\n",
    "    def __init__(self, name):\n",
    "        self.__name = name #self.__name 에 '__'를 추가함으로 외부에서 바로 접근이 불가능하게 하였다.\n",
    "    \n",
    "    @property\n",
    "    def person_name(self):\n",
    "        print('inside the getter')\n",
    "        return self.__name\n",
    "    \n",
    "    @person_name.setter\n",
    "    def person_name(self, name):\n",
    "        print('inside the setter')\n",
    "        self.__name = name        "
   ]
  },
  {
   "cell_type": "code",
   "execution_count": 56,
   "metadata": {},
   "outputs": [],
   "source": [
    "someone = Person('Homer Simpson')"
   ]
  },
  {
   "cell_type": "markdown",
   "metadata": {},
   "source": [
    "아래와 같이 객체에서 매개변수로 지정한 속성에 바로 접근을 하려하면 에러 메시지를 던진다."
   ]
  },
  {
   "cell_type": "code",
   "execution_count": 58,
   "metadata": {},
   "outputs": [
    {
     "ename": "AttributeError",
     "evalue": "'Person' object has no attribute 'name'",
     "output_type": "error",
     "traceback": [
      "\u001b[0;31m---------------------------------------------------------------------------\u001b[0m",
      "\u001b[0;31mAttributeError\u001b[0m                            Traceback (most recent call last)",
      "\u001b[0;32m<ipython-input-58-11826d80aa2e>\u001b[0m in \u001b[0;36m<module>\u001b[0;34m()\u001b[0m\n\u001b[0;32m----> 1\u001b[0;31m \u001b[0msomeone\u001b[0m\u001b[0;34m.\u001b[0m\u001b[0mname\u001b[0m\u001b[0;34m\u001b[0m\u001b[0m\n\u001b[0m",
      "\u001b[0;31mAttributeError\u001b[0m: 'Person' object has no attribute 'name'"
     ]
    }
   ],
   "source": [
    "someone.name"
   ]
  },
  {
   "cell_type": "markdown",
   "metadata": {},
   "source": [
    "그렇지만 `getter`와 `setter` 역할로 지정한 property를 호출하여 간접적인 접근이 가능하다."
   ]
  },
  {
   "cell_type": "code",
   "execution_count": 59,
   "metadata": {},
   "outputs": [
    {
     "name": "stdout",
     "output_type": "stream",
     "text": [
      "inside the getter\n"
     ]
    },
    {
     "data": {
      "text/plain": [
       "'Homer Simpson'"
      ]
     },
     "execution_count": 59,
     "metadata": {},
     "output_type": "execute_result"
    }
   ],
   "source": [
    "someone.person_name #보기와 같이 person_name뒤에 ()를 붙이지 않는다."
   ]
  },
  {
   "cell_type": "code",
   "execution_count": 60,
   "metadata": {},
   "outputs": [
    {
     "name": "stdout",
     "output_type": "stream",
     "text": [
      "inside the setter\n",
      "inside the getter\n"
     ]
    },
    {
     "data": {
      "text/plain": [
       "'Bart Simpson'"
      ]
     },
     "execution_count": 60,
     "metadata": {},
     "output_type": "execute_result"
    }
   ],
   "source": [
    "someone.person_name = \"Bart Simpson\"\n",
    "someone.person_name"
   ]
  },
  {
   "cell_type": "markdown",
   "metadata": {},
   "source": [
    "위와 같이 변수 값 선언과 같은 방법으로 속성값을 바꿔 줄 수 있게된다."
   ]
  },
  {
   "cell_type": "markdown",
   "metadata": {},
   "source": [
    "## Name mangling  \n",
    "위 예시에서 봤듯이 '__' 를 속성 앞에 붙이면 외부에서 실수로 접근하게 되는 일은 없게 된다."
   ]
  },
  {
   "cell_type": "markdown",
   "metadata": {},
   "source": [
    "## 메서드 타입  \n",
    "어떤 데이터(속성)와 함수(메서드)는 클래스 자신의 일부고, 어떤것은 클래스로부터 생성된 객체의 일부다.  \n",
    "\n",
    "1. 클래스 정의에서 메서드 첫 인자가 `self`라면 이 메서드는 인스턴스 메서드(instance method)다.  \n",
    "    - 인스턴스 메서드의 첫 번째 매개변수는 `self`고, 파이썬은 이 메서드를 호출할 때 객체를 전달한다.  \n",
    "    \n",
    "2. 이와 반대로 클래스 메서드(class method)는 **클래스 전체에 영향을 미친다**  \n",
    "    - 클래스 정의에서 함수에 `@classmethod` 데커레이터가 있다면 클래스 메서드다. \n",
    "    - 보통 파이썬에서 cls를 사용한다."
   ]
  },
  {
   "cell_type": "code",
   "execution_count": 70,
   "metadata": {},
   "outputs": [],
   "source": [
    "class Person():\n",
    "    count = 0\n",
    "    def __init__(self):\n",
    "        Person.count += 1\n",
    "#     def exclaim(self):\n",
    "#         print(f'my name is {self.name} !')\n",
    "    @classmethod\n",
    "    def clone(cls):\n",
    "        print(f'This class has {cls.count} clones!')"
   ]
  },
  {
   "cell_type": "code",
   "execution_count": 71,
   "metadata": {},
   "outputs": [],
   "source": [
    "someone_a = Person()\n",
    "someone_b = Person()\n",
    "someone_c = Person()"
   ]
  },
  {
   "cell_type": "code",
   "execution_count": 72,
   "metadata": {},
   "outputs": [
    {
     "name": "stdout",
     "output_type": "stream",
     "text": [
      "This class has 3 clones!\n"
     ]
    }
   ],
   "source": [
    "Person.clone()"
   ]
  },
  {
   "cell_type": "markdown",
   "metadata": {},
   "source": [
    " 위 예제에서와 같이 Person 클래스는 자신이 생성될 때 인스턴스 메서드에서 count값이 1씩 증가한다.  \n",
    " 아울러 클래스 메서드 clone(cls)가 선언되어 있어서 클래스 변수인 count의 값을 출력한다.  \n",
    " **(별 것 아니게 보이지만 클래스 메서드는 본인을 참조하여 함수화 할 수 있다는 것을 꼭 기억해야한다)**"
   ]
  },
  {
   "cell_type": "markdown",
   "metadata": {},
   "source": [
    "## 덕 타이핑  \n",
    "파이선은 클래스에 상관없이 같은 동작을 다른 객체에서 적용할 수 있다.  \n",
    "이름하여 **다형성 polymorphism**"
   ]
  },
  {
   "cell_type": "code",
   "execution_count": 74,
   "metadata": {},
   "outputs": [],
   "source": [
    "class Quote():\n",
    "    def __init__(self, person, words):\n",
    "        self.person = person\n",
    "        self.words = words\n",
    "    def who(self):\n",
    "        return self.person\n",
    "    def says(self):\n",
    "        return self.words + '.'"
   ]
  },
  {
   "cell_type": "markdown",
   "metadata": {},
   "source": [
    "위와 같이 `Quote` 라는 클래스는 인스턴스 메서드의 매개변수로  \n",
    "- `person`과 `words`를 받고   \n",
    "- 각각의 인자를 리턴하는 `who`와 `says`메서드를 가지고 있다.  "
   ]
  },
  {
   "cell_type": "code",
   "execution_count": 75,
   "metadata": {},
   "outputs": [],
   "source": [
    "class QuestionQuote(Quote):\n",
    "    def says(self):\n",
    "        return self.words + '.'\n",
    "class ExclamationQuote(Quote):\n",
    "    def says(self):\n",
    "        return self.words + '!'"
   ]
  },
  {
   "cell_type": "markdown",
   "metadata": {},
   "source": [
    "`Quote` 클래스를 부모로 상속받아 `says` 메서드를 오버라이드 하는 클래스 둘을 더 만들었다. "
   ]
  },
  {
   "cell_type": "code",
   "execution_count": 77,
   "metadata": {},
   "outputs": [],
   "source": [
    "someone_a = Quote('Homer Simpson','Doh!')\n",
    "someone_b = Quote('Bart Simpson', 'Come on!')\n",
    "someone_c = Quote('Marge Simpson', 'Homer!')"
   ]
  },
  {
   "cell_type": "code",
   "execution_count": 84,
   "metadata": {},
   "outputs": [
    {
     "name": "stdout",
     "output_type": "stream",
     "text": [
      "Homer Simpson says Doh!.\n",
      "Bart Simpson says Come on!.\n",
      "Marge Simpson says Homer!.\n"
     ]
    }
   ],
   "source": [
    "print(f'{someone_a.who()} says {someone_a.says()}')\n",
    "print(f'{someone_b.who()} says {someone_b.says()}')\n",
    "print(f'{someone_c.who()} says {someone_c.says()}')"
   ]
  },
  {
   "cell_type": "markdown",
   "metadata": {},
   "source": [
    "예상했던 결과라면 아래와 같은 클래스를 생성해보자"
   ]
  },
  {
   "cell_type": "code",
   "execution_count": 85,
   "metadata": {},
   "outputs": [],
   "source": [
    "class BabblingBrook():\n",
    "    def who(self):\n",
    "        return 'Brook'\n",
    "    def says(self):\n",
    "        return 'Babble'"
   ]
  },
  {
   "cell_type": "code",
   "execution_count": 86,
   "metadata": {},
   "outputs": [],
   "source": [
    "brook = BabblingBrook()"
   ]
  },
  {
   "cell_type": "markdown",
   "metadata": {},
   "source": [
    "`BabblingBrook`클래스는 위에 `Quote`클래스들과 전혀 연관이 없다. 그러나 아래를 보게 되면..."
   ]
  },
  {
   "cell_type": "code",
   "execution_count": 87,
   "metadata": {},
   "outputs": [],
   "source": [
    "def who_says(obj):\n",
    "    print(obj.who(), 'says', obj.says())"
   ]
  },
  {
   "cell_type": "code",
   "execution_count": 89,
   "metadata": {},
   "outputs": [
    {
     "name": "stdout",
     "output_type": "stream",
     "text": [
      "Homer Simpson says Doh!.\n",
      "Bart Simpson says Come on!.\n",
      "Marge Simpson says Homer!.\n",
      "Brook says Babble\n"
     ]
    }
   ],
   "source": [
    "who_says(someone_a)\n",
    "who_says(someone_b)\n",
    "who_says(someone_c)\n",
    "who_says(brook) # 전혀 상관없는 1인"
   ]
  },
  {
   "cell_type": "markdown",
   "metadata": {},
   "source": [
    "상관없지만 클래스가 가지고 있는 메서드가 같다면 작동은 동일하게 한다. 이런 행위를 덕타이핑(duck typing)이라 한다."
   ]
  },
  {
   "cell_type": "markdown",
   "metadata": {},
   "source": [
    "## 특수메서드  \n",
    "`__init__`과 같이 이미 파이썬에서 built-in으로 지정된 메서드들이 존재하는데 이들을 특수메서드라 부른다."
   ]
  },
  {
   "cell_type": "markdown",
   "metadata": {},
   "source": [
    "|비교연산 메서드|내용|연산|  \n",
    "|:---- |:--------:| ----:|  \n",
    "|`__eq__(self, other)`|equal to|`self==other`|  \n",
    "|`__ne__(self, other)`|not equal to|`self!=other`|  \n",
    "|`__lt__(self, other)`|less than|`self<other`|  \n",
    "|`__gt__(self, other)`|greater than|`self==other`|  \n",
    "|`__le__(self, other)`|less than or equal to|`self<=other`|  \n",
    "|`__ge__(self, other)`|greater than or equal to|`self==other`|  \n",
    "\n",
    "|산술연산 메서드|내용|연산|  \n",
    "|:---- |:--------:| ----:|  \n",
    "|`__add__(self, other)`|add|`self+other`|  \n",
    "|`__sub__(self, other)`|subtract|`self-other`|  \n",
    "|`__mul__(self, other)`|multiply|`self*other`|\n",
    "|`__floordiv__(self, other)`|floor division|`self//other`|\n",
    "|`__truediv__(self, other)`|true division|`self/other`|\n",
    "|`__mod__(self, other)`|modulus|`self%other`|\n",
    "|`__pow__(self, other)`|exponentiation|`self**other`|"
   ]
  },
  {
   "cell_type": "code",
   "execution_count": null,
   "metadata": {},
   "outputs": [],
   "source": []
  }
 ],
 "metadata": {
  "kernelspec": {
   "display_name": "Python 3",
   "language": "python",
   "name": "python3"
  },
  "language_info": {
   "codemirror_mode": {
    "name": "ipython",
    "version": 3
   },
   "file_extension": ".py",
   "mimetype": "text/x-python",
   "name": "python",
   "nbconvert_exporter": "python",
   "pygments_lexer": "ipython3",
   "version": "3.6.6"
  }
 },
 "nbformat": 4,
 "nbformat_minor": 2
}
