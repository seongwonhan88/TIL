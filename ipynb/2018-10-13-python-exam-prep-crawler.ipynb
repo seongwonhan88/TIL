{
 "cells": [
  {
   "cell_type": "code",
   "execution_count": 3,
   "metadata": {},
   "outputs": [],
   "source": [
    "import requests\n",
    "from bs4 import BeautifulSoup"
   ]
  },
  {
   "cell_type": "code",
   "execution_count": 4,
   "metadata": {},
   "outputs": [],
   "source": [
    "topic_url = requests.get('https://medium.com/topic/popular')"
   ]
  },
  {
   "cell_type": "code",
   "execution_count": 8,
   "metadata": {},
   "outputs": [],
   "source": [
    "# with open('medium_topic.html', 'wt') as w:\n",
    "#     w.write(topic_url.text)    "
   ]
  },
  {
   "cell_type": "code",
   "execution_count": 9,
   "metadata": {},
   "outputs": [],
   "source": [
    "html = topic_url.text"
   ]
  },
  {
   "cell_type": "code",
   "execution_count": 50,
   "metadata": {},
   "outputs": [],
   "source": [
    "soup = BeautifulSoup(html, 'lxml')"
   ]
  },
  {
   "cell_type": "code",
   "execution_count": null,
   "metadata": {},
   "outputs": [],
   "source": []
  },
  {
   "cell_type": "code",
   "execution_count": 55,
   "metadata": {},
   "outputs": [],
   "source": [
    "title_list =soup.select('div > h3 > a')\n",
    "topic_list = []"
   ]
  },
  {
   "cell_type": "code",
   "execution_count": 60,
   "metadata": {},
   "outputs": [
    {
     "ename": "TypeError",
     "evalue": "list indices must be integers or slices, not str",
     "output_type": "error",
     "traceback": [
      "\u001b[0;31m--------------------------------------\u001b[0m",
      "\u001b[0;31mTypeError\u001b[0mTraceback (most recent call last)",
      "\u001b[0;32m<ipython-input-60-30fcb5c91bf5>\u001b[0m in \u001b[0;36m<module>\u001b[0;34m()\u001b[0m\n\u001b[0;32m----> 1\u001b[0;31m \u001b[0mtitle_list\u001b[0m\u001b[0;34m[\u001b[0m\u001b[0;34m'href'\u001b[0m\u001b[0;34m]\u001b[0m\u001b[0;34m\u001b[0m\u001b[0m\n\u001b[0m",
      "\u001b[0;31mTypeError\u001b[0m: list indices must be integers or slices, not str"
     ]
    }
   ],
   "source": []
  },
  {
   "cell_type": "code",
   "execution_count": 64,
   "metadata": {},
   "outputs": [
    {
     "name": "stdout",
     "output_type": "stream",
     "text": [
      "/p/673cf6706140?source=topic_page---------0------------------20\n",
      "/p/2615e5e11e07?source=topic_page---------1------------------20\n",
      "/p/fd3e130b69a0?source=topic_page---------2------------------20\n",
      "/p/cd0f21609ee6?source=topic_page---------3------------------20\n",
      "/p/f62eb2d7fb61?source=topic_page---------4------------------20\n",
      "/p/11a709a20000?source=topic_page---------5------------------20\n",
      "/p/d1529c0fad03?source=topic_page---------6------------------20\n",
      "/p/957700d2653b?source=topic_page---------7------------------20\n",
      "/p/456821bbb09d?source=topic_page---------8------------------20\n",
      "/p/26a47ccf778c?source=topic_page---------9------------------20\n",
      "/p/95d45ffba9eb?source=topic_page---------0------------------1\n",
      "/p/24a82d0dc7af?source=topic_page---------1------------------1\n",
      "/p/f1096f54dd16?source=topic_page---------2------------------1\n",
      "/p/673cf6706140?source=topic_page---------4------------------1\n",
      "/p/2615e5e11e07?source=topic_page---------5------------------1\n",
      "/p/fd3e130b69a0?source=topic_page---------6------------------1\n",
      "/p/b3bfa96bb688?source=topic_page---------7------------------1\n",
      "/p/cd0f21609ee6?source=topic_page---------8------------------1\n",
      "/p/f62eb2d7fb61?source=topic_page---------9------------------1\n",
      "/p/49b2526d3b5b?source=topic_page---------10------------------1\n"
     ]
    }
   ],
   "source": [
    "for title in title_list:\n",
    "    print(title['href'])\n",
    "    topic_list.append(title.text, title[href])"
   ]
  },
  {
   "cell_type": "code",
   "execution_count": null,
   "metadata": {},
   "outputs": [],
   "source": []
  },
  {
   "cell_type": "code",
   "execution_count": null,
   "metadata": {},
   "outputs": [],
   "source": []
  }
 ],
 "metadata": {
  "kernelspec": {
   "display_name": "Python 3",
   "language": "python",
   "name": "python3"
  },
  "language_info": {
   "codemirror_mode": {
    "name": "ipython",
    "version": 3
   },
   "file_extension": ".py",
   "mimetype": "text/x-python",
   "name": "python",
   "nbconvert_exporter": "python",
   "pygments_lexer": "ipython3",
   "version": "3.6.6"
  }
 },
 "nbformat": 4,
 "nbformat_minor": 2
}
