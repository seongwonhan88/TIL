{
 "cells": [
  {
   "cell_type": "code",
   "execution_count": 53,
   "metadata": {},
   "outputs": [],
   "source": [
    "class Library:\n",
    "    def __init__(self, name):\n",
    "        self.name = name\n",
    "        self.book_list = []\n",
    "        \n",
    "    # create a new Book instance  \n",
    "    def add_book(self, book):\n",
    "        if book in self.book_list:\n",
    "            print('이미 소장중입니다.')\n",
    "\n",
    "        else: \n",
    "            self.book_list.append(book)\n",
    "            book.is_borroweds = True\n",
    "            book.location = self.name\n",
    "            print(f'{book.title} is in {book.location}')\n",
    "    \n",
    "    # remove book\n",
    "    def remove_book(self, book):\n",
    "        if book in self.book_list:\n",
    "            self.book_list.remove(book)\n",
    "            book.location = None\n",
    "            book.is_borroweds = None\n",
    "            print(f'{book.title} has been removed')\n",
    "        else: \n",
    "            print(f'{book.title} is not in our library')\n",
    "        \n",
    "    @property\n",
    "    def info(self):\n",
    "        print(f'library: {self.name} \\n book_list: {[i.title for i in {self.book_list}]}')"
   ]
  },
  {
   "cell_type": "code",
   "execution_count": null,
   "metadata": {},
   "outputs": [],
   "source": []
  },
  {
   "cell_type": "code",
   "execution_count": 54,
   "metadata": {},
   "outputs": [],
   "source": [
    "lib = Library('main library')"
   ]
  },
  {
   "cell_type": "code",
   "execution_count": 55,
   "metadata": {},
   "outputs": [],
   "source": [
    "book1 = Book('testingbook1')\n",
    "book2 = Book('testingbook2')\n",
    "book3 = Book('testingbook3')\n",
    "book4 = Book('testingbook4')\n",
    "book5 = Book('testingbook5')"
   ]
  },
  {
   "cell_type": "code",
   "execution_count": 56,
   "metadata": {},
   "outputs": [
    {
     "name": "stdout",
     "output_type": "stream",
     "text": [
      "testingbook1 is in main library\n",
      "testingbook2 is in main library\n",
      "testingbook3 is in main library\n",
      "testingbook4 is in main library\n",
      "testingbook5 is in main library\n"
     ]
    }
   ],
   "source": [
    "lib.add_book(book1)\n",
    "lib.add_book(book2)\n",
    "lib.add_book(book3)\n",
    "lib.add_book(book4)\n",
    "lib.add_book(book5)"
   ]
  },
  {
   "cell_type": "code",
   "execution_count": 51,
   "metadata": {},
   "outputs": [],
   "source": [
    "class Book():\n",
    "    def __init__(self, title):\n",
    "        self.title = title\n",
    "        self.location = None\n",
    "        is_borroweds = None\n",
    "        \n",
    "    @property\n",
    "    def is_borrowed(self):\n",
    "        if self.is_borroweds == True:\n",
    "            print('rented')\n",
    "        elif self.is_borroweds == False:\n",
    "            print('you can rent this')\n",
    "        else: \n",
    "            print('not in the library')"
   ]
  },
  {
   "cell_type": "code",
   "execution_count": 52,
   "metadata": {},
   "outputs": [],
   "source": [
    "class User():\n",
    "    def __init__(self, name):\n",
    "        self.name = name \n",
    "        self.book_list = []\n",
    "    \n",
    "    def borrow_book(self, library, book):\n",
    "        if book in self.book_list:\n",
    "            print('I have it already')\n",
    "        else: \n",
    "            library.book_list.remove(book)\n",
    "            self.book_list.append(book)\n",
    "            book.location = self.name\n",
    "            book.is_burroweds = False\n",
    "            print(f'{book.title} rented from {library.name}')\n",
    "            \n",
    "    def return_book(self, library, book):\n",
    "        if book in self.book_list:\n",
    "            library.book_list.append(book)\n",
    "            self.book_list.remove(book)\n",
    "            book.location = library.name\n",
    "            book.is_burroweds = True\n",
    "            print(f'{book.title} return to {library.name}')\n",
    "\n",
    "    @property\n",
    "    def info(self):\n",
    "        print(self.book_list)\n",
    "        "
   ]
  },
  {
   "cell_type": "code",
   "execution_count": 58,
   "metadata": {},
   "outputs": [],
   "source": [
    "user = User('seongwon')"
   ]
  },
  {
   "cell_type": "code",
   "execution_count": 59,
   "metadata": {},
   "outputs": [
    {
     "name": "stdout",
     "output_type": "stream",
     "text": [
      "testingbook3 rented from main library\n"
     ]
    }
   ],
   "source": [
    "user.borrow_book(lib, book3)"
   ]
  },
  {
   "cell_type": "code",
   "execution_count": 72,
   "metadata": {},
   "outputs": [
    {
     "data": {
      "text/plain": [
       "[]"
      ]
     },
     "execution_count": 72,
     "metadata": {},
     "output_type": "execute_result"
    }
   ],
   "source": [
    "user.book_list"
   ]
  },
  {
   "cell_type": "code",
   "execution_count": 73,
   "metadata": {},
   "outputs": [
    {
     "data": {
      "text/plain": [
       "[<__main__.Book at 0x10dfc5d30>,\n",
       " <__main__.Book at 0x10dfc5e80>,\n",
       " <__main__.Book at 0x10dfc5ef0>,\n",
       " <__main__.Book at 0x10dfc5f28>,\n",
       " <__main__.Book at 0x10dfc5eb8>]"
      ]
     },
     "execution_count": 73,
     "metadata": {},
     "output_type": "execute_result"
    }
   ],
   "source": [
    "lib.book_list"
   ]
  },
  {
   "cell_type": "code",
   "execution_count": 70,
   "metadata": {},
   "outputs": [],
   "source": [
    "user.return_book(lib, book3)"
   ]
  },
  {
   "cell_type": "code",
   "execution_count": 74,
   "metadata": {},
   "outputs": [
    {
     "name": "stdout",
     "output_type": "stream",
     "text": [
      "rented\n"
     ]
    }
   ],
   "source": [
    "book3.is_borrowed"
   ]
  },
  {
   "cell_type": "code",
   "execution_count": null,
   "metadata": {},
   "outputs": [],
   "source": []
  }
 ],
 "metadata": {
  "kernelspec": {
   "display_name": "Python 3",
   "language": "python",
   "name": "python3"
  },
  "language_info": {
   "codemirror_mode": {
    "name": "ipython",
    "version": 3
   },
   "file_extension": ".py",
   "mimetype": "text/x-python",
   "name": "python",
   "nbconvert_exporter": "python",
   "pygments_lexer": "ipython3",
   "version": "3.6.6"
  }
 },
 "nbformat": 4,
 "nbformat_minor": 2
}
