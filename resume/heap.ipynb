{
 "cells": [
  {
   "cell_type": "markdown",
   "metadata": {},
   "source": [
    "# 배열을 사용한 heap 구현 코드 "
   ]
  },
  {
   "cell_type": "code",
   "execution_count": null,
   "metadata": {},
   "outputs": [],
   "source": [
    "class Heap:\n",
    "    def get_parent_index(self, index):\n",
    "        return index//2\n",
    "    \n",
    "    def get_left_child_index(self, index):\n",
    "        return index*2\n",
    "    \n",
    "    def get_right_child_index(self, index):\n",
    "        return index*2 + 1 \n",
    "    \n",
    "    \n",
    "    def get_prior(self, value1, value2):\n",
    "        \"\"\"\n",
    "        value1이 우선순위가 높으면 -1 리턴\n",
    "        value2가 우선순위가 높으면 1 리턴 \n",
    "        \"\"\"\n",
    "        if self.min_max == 1:\n",
    "            if value1 < value2:\n",
    "                return -1\n",
    "            elif value1 > value2:\n",
    "                return 1\n",
    "            else:\n",
    "                return 0\n",
    "        \n",
    "        else:\n",
    "            if value1 > value2:\n",
    "                return -1\n",
    "            elif value1 < value2:\n",
    "                return 1\n",
    "            else:\n",
    "                return 0\n",
    "    \n",
    "    def __init__(self, s_min_max = 'min'):\n",
    "        self.dynamic_arr = [None,]\n",
    "        self.num_of_data = 0\n",
    "        \n",
    "        if s_min_max == 'max':\n",
    "            self.min_max = 2\n",
    "        else: \n",
    "            self.min_max = 1\n",
    "    \n",
    "    def is_empty(self):\n",
    "        if self.num_of_data == 0:\n",
    "            return True\n",
    "    \n",
    "    def is_go_up(self, index, data):\n",
    "        if index <= 1:\n",
    "            return False\n",
    "        \n",
    "        parent_value = self.dynamic_arr[self.get_parent_index(index)]\n",
    "        \n",
    "        if self.get_prior(parent_value, data) == 1:\n",
    "            return True\n",
    "        else: \n",
    "            return False\n",
    "        "
   ]
  }
 ],
 "metadata": {
  "kernelspec": {
   "display_name": "Python 3",
   "language": "python",
   "name": "python3"
  },
  "language_info": {
   "codemirror_mode": {
    "name": "ipython",
    "version": 3
   },
   "file_extension": ".py",
   "mimetype": "text/x-python",
   "name": "python",
   "nbconvert_exporter": "python",
   "pygments_lexer": "ipython3",
   "version": "3.6.6"
  }
 },
 "nbformat": 4,
 "nbformat_minor": 2
}
