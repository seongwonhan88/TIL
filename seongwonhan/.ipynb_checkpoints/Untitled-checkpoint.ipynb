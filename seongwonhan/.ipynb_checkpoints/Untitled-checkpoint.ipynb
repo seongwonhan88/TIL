{
 "cells": [
  {
   "cell_type": "code",
   "execution_count": 5,
   "metadata": {},
   "outputs": [],
   "source": [
    "goal = list(range(1,16))"
   ]
  },
  {
   "cell_type": "code",
   "execution_count": 64,
   "metadata": {},
   "outputs": [],
   "source": [
    "import random\n",
    "goalie = random.sample(goal, k=10)"
   ]
  },
  {
   "cell_type": "code",
   "execution_count": 65,
   "metadata": {},
   "outputs": [
    {
     "data": {
      "text/plain": [
       "[14, 10, 9, 12, 8, 15, 5, 4, 2, 13]"
      ]
     },
     "execution_count": 65,
     "metadata": {},
     "output_type": "execute_result"
    }
   ],
   "source": [
    "goalie"
   ]
  },
  {
   "cell_type": "code",
   "execution_count": 131,
   "metadata": {},
   "outputs": [],
   "source": [
    "import random\n",
    "\n",
    "\n",
    "class Kicker():\n",
    "    def __init__(self, name):\n",
    "        self.name = name \n",
    "    def kick(self, position):\n",
    "        self.position = position\n",
    "\n",
    "class Points():\n",
    "    pass\n",
    "\n",
    "class Goal():\n",
    "    def __init__(self, size):\n",
    "        self.size = size\n",
    "\n",
    "class Level():\n",
    "    def __init__(self, level):\n",
    "        self.level = level\n",
    "        \n",
    "class GoalKeeper(Goal):\n",
    "    \n",
    "    def spec(self):\n",
    "     random.sample(Goal.size, k=10)"
   ]
  },
  {
   "cell_type": "code",
   "execution_count": 134,
   "metadata": {
    "scrolled": true
   },
   "outputs": [],
   "source": [
    "gk = GoalKeeper(16)"
   ]
  },
  {
   "cell_type": "code",
   "execution_count": 136,
   "metadata": {},
   "outputs": [
    {
     "name": "stdout",
     "output_type": "stream",
     "text": [
      "<bound method GoalKeeper.spec of <__main__.GoalKeeper object at 0x111b6fa90>>\n"
     ]
    }
   ],
   "source": []
  },
  {
   "cell_type": "code",
   "execution_count": null,
   "metadata": {},
   "outputs": [],
   "source": []
  }
 ],
 "metadata": {
  "kernelspec": {
   "display_name": "Python 3",
   "language": "python",
   "name": "python3"
  },
  "language_info": {
   "codemirror_mode": {
    "name": "ipython",
    "version": 3
   },
   "file_extension": ".py",
   "mimetype": "text/x-python",
   "name": "python",
   "nbconvert_exporter": "python",
   "pygments_lexer": "ipython3",
   "version": "3.6.6"
  }
 },
 "nbformat": 4,
 "nbformat_minor": 2
}
