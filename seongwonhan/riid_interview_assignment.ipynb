{
 "cells": [
  {
   "cell_type": "markdown",
   "metadata": {},
   "source": [
    "# Riiid 인터뷰 문제\n",
    "## dependency가 없는 get_random 함수를 작성\n",
    "- 0이나 1을 리턴하는 get_one_or_zero를 사용(반드시?)  \n",
    "- 함수를 호출하면 0~ max_number-1 중 하나의 숫자를 랜덤하게 리턴  "
   ]
  },
  {
   "cell_type": "markdown",
   "metadata": {},
   "source": [
    "## 멋지지는 않지만 일단 결과가 나오는 함수"
   ]
  },
  {
   "cell_type": "code",
   "execution_count": 23,
   "metadata": {},
   "outputs": [],
   "source": [
    "from random import randrange\n",
    "\n",
    "get_one_or_zero = lambda: randrange(2)"
   ]
  },
  {
   "cell_type": "code",
   "execution_count": 100,
   "metadata": {},
   "outputs": [],
   "source": [
    "def get_random(number):\n",
    "    \"\"\"\n",
    "    정수를 입력하면 해당 \n",
    "    \"\"\"\n",
    "    def get_length(bin_list):\n",
    "        count = 0\n",
    "        for item in bin_list:\n",
    "            count += 1\n",
    "        return count\n",
    "    \n",
    "    select_option = []\n",
    "    limit = number - 1 \n",
    "    run= 0\n",
    "    index = 0\n",
    "    while limit >= 0:\n",
    "        select_option.append(limit)\n",
    "        limit -= 1\n",
    "        \n",
    "    while run < get_length(select_option):\n",
    "        run += 1\n",
    "        index += get_one_or_zero()\n",
    "        \n",
    "    return select_option[index-1]"
   ]
  },
  {
   "cell_type": "markdown",
   "metadata": {},
   "source": [
    "## 함수 실행 결과\n",
    "### 숫자가 크면 클수록 시간이 엄청 늘어난다.."
   ]
  },
  {
   "cell_type": "code",
   "execution_count": 102,
   "metadata": {},
   "outputs": [
    {
     "data": {
      "text/plain": [
       "4962"
      ]
     },
     "execution_count": 102,
     "metadata": {},
     "output_type": "execute_result"
    }
   ],
   "source": [
    "get_random(5)"
   ]
  },
  {
   "cell_type": "markdown",
   "metadata": {},
   "source": [
    "# Binary로 전환해서 랜덤하게 만들어보는 것은 어떤지?\n",
    "- Binary로 전환하면 우선 모든 숫자들을 표현 가능 하긴한데 \n",
    "- 어려운 점은 max_number -1 값을 binary로 표현하는 논리를 아직 잘 모르겠다 "
   ]
  },
  {
   "cell_type": "code",
   "execution_count": null,
   "metadata": {},
   "outputs": [],
   "source": [
    "def get_random(number):\n",
    "    \n",
    "    def get_length(bin_list):\n",
    "        count = 0\n",
    "        for item in bin_list:\n",
    "            count += 1\n",
    "        return count\n",
    "    \n",
    "    convert_to_bin = []\n",
    "    index = 0\n",
    "    \n",
    "    if number > 1:\n",
    "        #이진수 변환\n",
    "        while number >= 1:\n",
    "            convert_to_bin.append(number%2) #가장 뒤 숫자는 항상1 \n",
    "            number = number//2\n",
    "        \n",
    "        while index < get_length(convert_to_bin):\n",
    "            print(convert_to_bin[index])\n",
    "            index += 1"
   ]
  }
 ],
 "metadata": {
  "kernelspec": {
   "display_name": "Python 3",
   "language": "python",
   "name": "python3"
  },
  "language_info": {
   "codemirror_mode": {
    "name": "ipython",
    "version": 3
   },
   "file_extension": ".py",
   "mimetype": "text/x-python",
   "name": "python",
   "nbconvert_exporter": "python",
   "pygments_lexer": "ipython3",
   "version": "3.6.6"
  }
 },
 "nbformat": 4,
 "nbformat_minor": 2
}
