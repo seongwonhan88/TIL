{
 "cells": [
  {
   "cell_type": "markdown",
   "metadata": {},
   "source": [
    "# Riiid 인터뷰 문제\n",
    "## dependency가 없는 get_random 함수를 작성\n",
    "- 0이나 1을 리턴하는 get_one_or_zero를 사용\n",
    "- 함수를 호출하면 0~ max_number-1 중 하나의 숫자를 랜덤하게 리턴  "
   ]
  },
  {
   "cell_type": "markdown",
   "metadata": {},
   "source": [
    "## 1차 시도: 주어진 숫자를 순회하는 함수"
   ]
  },
  {
   "cell_type": "code",
   "execution_count": 1,
   "metadata": {},
   "outputs": [],
   "source": [
    "from random import randrange\n",
    "get_one_or_zero = lambda: randrange(2)\n",
    "\n",
    "def get_random(number):\n",
    "    \n",
    "    def get_length(bin_list):\n",
    "        # 주어진 리스트의 길이를 반환하는 함수 구현\n",
    "        count = 0\n",
    "        for item in bin_list:\n",
    "            count += 1\n",
    "        return count\n",
    "    \n",
    "    def get_option_list(number):\n",
    "        # number(정수)가 주어지면 0부터 number-1까지의 숫자를 리스트로 반환하는 함수 구현\n",
    "        limit = number - 1\n",
    "        select_option = []\n",
    "        while limit >= 0:\n",
    "            select_option.append(limit)\n",
    "            limit -=1\n",
    "        return select_option\n",
    "    \n",
    "    def run_sequence(option_list):\n",
    "        # 리스트의 길이만큼 반복문을 순회하는 함수 구현.\n",
    "        # 매 순회 시 0이나 1이 주어지고 이들의 합을 index에 저장하여 리스트에서 반환.\n",
    "        run = 0\n",
    "        index = 0\n",
    "        while run < get_length(option_list):\n",
    "            index += get_one_or_zero()\n",
    "            run += 1\n",
    "        return option_list[index-1]\n",
    "    \n",
    "    if number > 1:\n",
    "        # 1보다 큰 수가 입력되면 숫자만큼 순회하여 number보다 작은 수들 중 하나를 랜덤하게 반환.\n",
    "        output_list = get_option_list(number)\n",
    "        random_result = run_sequence(output_list)\n",
    "        return random_result\n",
    "    return 0"
   ]
  },
  {
   "cell_type": "markdown",
   "metadata": {},
   "source": [
    "#### 숫자가 크면 클수록 시간이 엄청 늘어난다. \n",
    "#### 결론: 이건 쓰면 안된다. "
   ]
  },
  {
   "cell_type": "code",
   "execution_count": 14,
   "metadata": {},
   "outputs": [
    {
     "data": {
      "text/plain": [
       "0"
      ]
     },
     "execution_count": 14,
     "metadata": {},
     "output_type": "execute_result"
    }
   ],
   "source": [
    "get_random(1)"
   ]
  },
  {
   "cell_type": "markdown",
   "metadata": {},
   "source": [
    "# Binary로 전환해서 랜덤하게 만들어보는 것은 어떤지?\n",
    "- Binary 전환 시 각 인덱스가 가지는 숫자의 크기가 2배로 늘어남에따라 비교적 적은 리스트로 큰 숫자들을 상대 할 수 있다.\n",
    "- 다시 10진수로 전환했을 때 number값 보다 더 큰수가 나오면 버리고 다시 돌린다."
   ]
  },
  {
   "cell_type": "code",
   "execution_count": 15,
   "metadata": {},
   "outputs": [],
   "source": [
    "from random import randrange\n",
    "get_one_or_zero = lambda: randrange(2)\n",
    "\n",
    "def get_random(number):\n",
    "    \n",
    "    def get_length(bin_list):\n",
    "        # 주어진 리스트의 길이를 반환하는 함수 구현\n",
    "        count = 0\n",
    "        for item in bin_list:\n",
    "            count += 1\n",
    "        return count\n",
    "    \n",
    "    def get_binary(number):\n",
    "        # 입력된 number를 이진수로 변환하여 저장한 리스트를 반환\n",
    "        convert_to_bin = []\n",
    "        if number > 1:\n",
    "            while number >= 1:\n",
    "                convert_to_bin.append(number%2) \n",
    "                number = number//2\n",
    "            return convert_to_bin\n",
    "    \n",
    "    def get_decimal(bin_list):\n",
    "        # 입력된 이진수 리스트를 10진수로 변환하여 반환\n",
    "        convert_to_dec = 0\n",
    "        index = 0\n",
    "        while index < get_length(bin_list):\n",
    "            convert_to_dec += bin_list[index]*(2**index)\n",
    "            index += 1\n",
    "        return convert_to_dec\n",
    "    \n",
    "    def randomize(bin_list):\n",
    "        # 입력된 이진수 리스트를 순회하며 0과 1을 랜덤하게 섞을 후 리스트 반환\n",
    "        index = 0\n",
    "        while index < get_length(bin_list):\n",
    "            bin_list[index] = get_one_or_zero()\n",
    "            index += 1\n",
    "        return bin_list\n",
    "    \n",
    "    def random_filter(number):\n",
    "        # randomize함수에서 반환한 숫자가 10진수로 변환하여\n",
    "        # number보다 클 경우 False반환, 작을 경우 해당 숫자 반환\n",
    "        binary = get_binary(number)\n",
    "        random_binary = randomize(binary)\n",
    "        decimal = get_decimal(random_binary)        \n",
    "        if decimal >= number:\n",
    "            return False\n",
    "        return decimal\n",
    "    \n",
    "    if number > 1:\n",
    "        # random_filter를 통해 최초 output 생성, \n",
    "        # False(number보다 큰 수가 반환된 경우)가 아니면 통과하여 output 반환\n",
    "        output = random_filter(number)\n",
    "        while output is False:\n",
    "            output = random_filter(number)    \n",
    "        return output\n",
    "    return 0"
   ]
  },
  {
   "cell_type": "markdown",
   "metadata": {},
   "source": [
    "#### 결론: 시간은 숫자가 커지면 커질수록 순회 함수보다 줄어드는 것을 볼 수 있음\n",
    "#### 그러나 get_random(5)를 입력했을 때 0,1,2,3,4가 20%의 확률로 나오는지는 솔직히 잘 모르겠음"
   ]
  },
  {
   "cell_type": "markdown",
   "metadata": {},
   "source": [
    "#### 시간 계산하기"
   ]
  },
  {
   "cell_type": "code",
   "execution_count": 43,
   "metadata": {},
   "outputs": [
    {
     "name": "stdout",
     "output_type": "stream",
     "text": [
      "0.0007901191711425781\n"
     ]
    }
   ],
   "source": [
    "import time\n",
    "start_time = time.time()\n",
    "get_random(10000000000000000)\n",
    "end_time = time.time() - start_time\n",
    "print(end_time)"
   ]
  }
 ],
 "metadata": {
  "kernelspec": {
   "display_name": "Python 3",
   "language": "python",
   "name": "python3"
  },
  "language_info": {
   "codemirror_mode": {
    "name": "ipython",
    "version": 3
   },
   "file_extension": ".py",
   "mimetype": "text/x-python",
   "name": "python",
   "nbconvert_exporter": "python",
   "pygments_lexer": "ipython3",
   "version": "3.6.6"
  }
 },
 "nbformat": 4,
 "nbformat_minor": 2
}
