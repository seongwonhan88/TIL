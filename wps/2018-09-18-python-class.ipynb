{
 "cells": [
  {
   "cell_type": "markdown",
   "metadata": {},
   "source": [
    "# Class"
   ]
  },
  {
   "cell_type": "code",
   "execution_count": 49,
   "metadata": {},
   "outputs": [],
   "source": [
    "class Shop:\n",
    "    description = 'this is a shop class'\n",
    "    count = 0 \n",
    "    shop_list = []\n",
    "    def __init__(self,name):  #magic method 생성자 method\n",
    "        self.name = name\n",
    "        Shop.count += 1\n",
    "        Shop.shop_list.append(self)\n",
    "        #self.__class__.shop_list.append(self)\n",
    "    def __repr__(self):\n",
    "        return f'{self.name}'\n",
    "    # class method\n",
    "    # 첫 번째 매개변수로 항상 클래스 정의 자체가 전달(cls)\n",
    "    # 클래스 정의가 전달되는 첫 번째 매개변수의 이름은 관용적으로 cls 사용\n",
    "    @classmethod\n",
    "    def class_method_example(cls):\n",
    "        print('class method')\n",
    "    \n",
    "    # example -> Shop 으로 만들어진 instance의 개수 확인\n",
    "    @classmethod\n",
    "    def get_shop_count(cls):\n",
    "        return cls.count\n",
    "        \n",
    "    @classmethod\n",
    "    def get_shop_list(cls):\n",
    "        return cls.shop_list\n",
    "    \n",
    "        "
   ]
  },
  {
   "cell_type": "code",
   "execution_count": 50,
   "metadata": {},
   "outputs": [],
   "source": [
    "subway = Shop('Subway')\n",
    "starbucks = Shop('Starbucks')"
   ]
  },
  {
   "cell_type": "code",
   "execution_count": 51,
   "metadata": {},
   "outputs": [],
   "source": [
    "### instance들은 각각의 스코프를 가지게 되며 직접 접근이 되지 않는다"
   ]
  },
  {
   "cell_type": "code",
   "execution_count": 52,
   "metadata": {},
   "outputs": [
    {
     "data": {
      "text/plain": [
       "2"
      ]
     },
     "execution_count": 52,
     "metadata": {},
     "output_type": "execute_result"
    }
   ],
   "source": [
    "Shop.get_shop_count()"
   ]
  },
  {
   "cell_type": "markdown",
   "metadata": {},
   "source": [
    "## 실습"
   ]
  },
  {
   "cell_type": "code",
   "execution_count": 25,
   "metadata": {},
   "outputs": [],
   "source": [
    "class Shop:\n",
    "    def __init__(self, name, shop_type, address):\n",
    "        self.name = name\n",
    "        self.shop_type = shop_type\n",
    "        self.address = address\n",
    "    def show_info(self):\n",
    "        print(f'Shop: {self.name} \\n type : {self.shop_type} \\n address: {self.address}')\n",
    "\n",
    "    def change_type(self, new_shop_type):\n",
    "        self.shop_type = new_shop_type\n",
    "        "
   ]
  },
  {
   "cell_type": "code",
   "execution_count": 26,
   "metadata": {},
   "outputs": [
    {
     "name": "stdout",
     "output_type": "stream",
     "text": [
      "Shop: Lotteria \n",
      " type : fast food \n",
      " address: Seoul\n"
     ]
    }
   ],
   "source": [
    "shop = Shop('Lotteria', 'fast food', 'Seoul')\n",
    "shop.show_info()"
   ]
  },
  {
   "cell_type": "code",
   "execution_count": 28,
   "metadata": {},
   "outputs": [
    {
     "name": "stdout",
     "output_type": "stream",
     "text": [
      "Shop: Lotteria \n",
      " type : slowfood \n",
      " address: Seoul\n"
     ]
    }
   ],
   "source": [
    "shop.change_type('slowfood')\n",
    "shop.show_info()"
   ]
  },
  {
   "cell_type": "markdown",
   "metadata": {},
   "source": [
    "## 캡슐화"
   ]
  },
  {
   "cell_type": "markdown",
   "metadata": {},
   "source": [
    "## 속성 접근 지정자의 종류\n",
    "- private : 정의된 클래스 내부에서만 사용 가능 \n",
    "- protected : 정의돈 클래스 및 상속받은 클래스 내부에서만 변경 및 사용 가능 \n",
    "- public : 클래스 외부에서도 변경 및 사용 가능"
   ]
  },
  {
   "cell_type": "code",
   "execution_count": 38,
   "metadata": {},
   "outputs": [],
   "source": [
    "class Shop:\n",
    "    def __init__(self, name, shop_type, address):\n",
    "        self.name = name\n",
    "        self.__shop_type = shop_type\n",
    "        self.address = address\n",
    "    def show_info(self):\n",
    "        print(f'Shop: {self.name} \\n type : {self.__shop_type} \\n address: {self.address}')\n",
    "\n",
    "    def change_type(self, new_shop_type):\n",
    "        self.__shop_type = new_shop_type\n",
    "        "
   ]
  },
  {
   "cell_type": "code",
   "execution_count": 39,
   "metadata": {},
   "outputs": [],
   "source": [
    "subway=Shop('subway', 'Sandwich', 'Seoul')"
   ]
  },
  {
   "cell_type": "code",
   "execution_count": 40,
   "metadata": {},
   "outputs": [
    {
     "ename": "AttributeError",
     "evalue": "'Shop' object has no attribute '__shop_type'",
     "output_type": "error",
     "traceback": [
      "\u001b[0;31m---------------------------------------------------------------------------\u001b[0m",
      "\u001b[0;31mAttributeError\u001b[0m                            Traceback (most recent call last)",
      "\u001b[0;32m<ipython-input-40-eee09416b0c8>\u001b[0m in \u001b[0;36m<module>\u001b[0;34m()\u001b[0m\n\u001b[0;32m----> 1\u001b[0;31m \u001b[0msubway\u001b[0m\u001b[0;34m.\u001b[0m\u001b[0m__shop_type\u001b[0m\u001b[0;34m(\u001b[0m\u001b[0;34m)\u001b[0m \u001b[0;31m# access denied\u001b[0m\u001b[0;34m\u001b[0m\u001b[0m\n\u001b[0m",
      "\u001b[0;31mAttributeError\u001b[0m: 'Shop' object has no attribute '__shop_type'"
     ]
    }
   ],
   "source": [
    "subway.__shop_type() # access denied "
   ]
  },
  {
   "cell_type": "code",
   "execution_count": 41,
   "metadata": {},
   "outputs": [
    {
     "name": "stdout",
     "output_type": "stream",
     "text": [
      "Shop: subway \n",
      " type : Sandwich \n",
      " address: Seoul\n"
     ]
    }
   ],
   "source": [
    "subway.show_info()"
   ]
  },
  {
   "cell_type": "code",
   "execution_count": 42,
   "metadata": {},
   "outputs": [],
   "source": [
    "subway.change_type('Fast Food')"
   ]
  },
  {
   "cell_type": "code",
   "execution_count": 43,
   "metadata": {},
   "outputs": [
    {
     "name": "stdout",
     "output_type": "stream",
     "text": [
      "Shop: subway \n",
      " type : Fast Food \n",
      " address: Seoul\n"
     ]
    }
   ],
   "source": [
    "subway.show_info()"
   ]
  },
  {
   "cell_type": "code",
   "execution_count": 44,
   "metadata": {},
   "outputs": [],
   "source": [
    "subway.__shop_type = 'Sandwich again'"
   ]
  },
  {
   "cell_type": "code",
   "execution_count": 45,
   "metadata": {},
   "outputs": [
    {
     "name": "stdout",
     "output_type": "stream",
     "text": [
      "Shop: subway \n",
      " type : Fast Food \n",
      " address: Seoul\n"
     ]
    }
   ],
   "source": [
    "subway.show_info()"
   ]
  },
  {
   "cell_type": "code",
   "execution_count": 46,
   "metadata": {},
   "outputs": [
    {
     "data": {
      "text/plain": [
       "['_Shop__shop_type',\n",
       " '__class__',\n",
       " '__delattr__',\n",
       " '__dict__',\n",
       " '__dir__',\n",
       " '__doc__',\n",
       " '__eq__',\n",
       " '__format__',\n",
       " '__ge__',\n",
       " '__getattribute__',\n",
       " '__gt__',\n",
       " '__hash__',\n",
       " '__init__',\n",
       " '__init_subclass__',\n",
       " '__le__',\n",
       " '__lt__',\n",
       " '__module__',\n",
       " '__ne__',\n",
       " '__new__',\n",
       " '__reduce__',\n",
       " '__reduce_ex__',\n",
       " '__repr__',\n",
       " '__setattr__',\n",
       " '__shop_type',\n",
       " '__sizeof__',\n",
       " '__str__',\n",
       " '__subclasshook__',\n",
       " '__weakref__',\n",
       " 'address',\n",
       " 'change_type',\n",
       " 'name',\n",
       " 'show_info']"
      ]
     },
     "execution_count": 46,
     "metadata": {},
     "output_type": "execute_result"
    }
   ],
   "source": [
    "dir(subway)"
   ]
  },
  {
   "cell_type": "code",
   "execution_count": 47,
   "metadata": {},
   "outputs": [
    {
     "data": {
      "text/plain": [
       "'Sandwich again'"
      ]
     },
     "execution_count": 47,
     "metadata": {},
     "output_type": "execute_result"
    }
   ],
   "source": [
    "subway.__shop_type"
   ]
  },
  {
   "cell_type": "code",
   "execution_count": 49,
   "metadata": {},
   "outputs": [
    {
     "name": "stdout",
     "output_type": "stream",
     "text": [
      "Shop: subway \n",
      " type : Fast Food \n",
      " address: Seoul\n"
     ]
    }
   ],
   "source": [
    "subway.show_info()"
   ]
  },
  {
   "cell_type": "markdown",
   "metadata": {},
   "source": [
    "private type으로 지정하면 이름이 _<classname>__<attribute> 로 지정된다. dir(instance)를 통해 확인 가능하다"
   ]
  },
  {
   "cell_type": "code",
   "execution_count": 53,
   "metadata": {
    "scrolled": true
   },
   "outputs": [],
   "source": [
    "subway._Shop__shop_type = 'I can change this'"
   ]
  },
  {
   "cell_type": "code",
   "execution_count": 54,
   "metadata": {},
   "outputs": [
    {
     "name": "stdout",
     "output_type": "stream",
     "text": [
      "Shop: subway \n",
      " type : I can change this \n",
      " address: Seoul\n"
     ]
    }
   ],
   "source": [
    "subway.show_info()"
   ]
  },
  {
   "cell_type": "markdown",
   "metadata": {},
   "source": [
    "## get/set"
   ]
  },
  {
   "cell_type": "code",
   "execution_count": 78,
   "metadata": {},
   "outputs": [],
   "source": [
    "class Shop:\n",
    "    SHOP_TYPE_LIST = ['sandwich','fastfood']\n",
    "    \n",
    "    def __init__(self, name, shop_type, address):\n",
    "        self.name = name\n",
    "        self.__shop_type = shop_type\n",
    "        self.address = address\n",
    "    def show_info(self):\n",
    "        print(f'Shop: {self.name} \\n type : {self.shop_type} \\n address: {self.address}')\n",
    "\n",
    "    def change_type(self, new_shop_type):\n",
    "        self.__shop_type = new_shop_type\n",
    "    \n",
    "    #using this we can retrieve _shop_type info\n",
    "    #특정 private 속성에 대해 getter 함수만 존재 할 경우 해당속성이 읽기전용이 됨\n",
    "    def get_shop_type(self):\n",
    "        return self.__shop_type\n",
    "    \n",
    "    #setter attr\n",
    "    def set_shop_type(self, new_shop_type):\n",
    "        if new_shop_type in self.SHOP_TYPE_LIST:\n",
    "            self.__shop_type = new_shop_type\n",
    "        else:\n",
    "            print('not the right type choose from {}'.format(', '.join(self.SHOP_TYPE_LIST)))"
   ]
  },
  {
   "cell_type": "code",
   "execution_count": 79,
   "metadata": {},
   "outputs": [
    {
     "data": {
      "text/plain": [
       "'sandwich'"
      ]
     },
     "execution_count": 79,
     "metadata": {},
     "output_type": "execute_result"
    }
   ],
   "source": [
    "subway = Shop('subway','sandwich','seoul')\n",
    "subway.get_shop_type()"
   ]
  },
  {
   "cell_type": "code",
   "execution_count": 80,
   "metadata": {},
   "outputs": [
    {
     "data": {
      "text/plain": [
       "'fastfood'"
      ]
     },
     "execution_count": 80,
     "metadata": {},
     "output_type": "execute_result"
    }
   ],
   "source": [
    "subway.set_shop_type('fastfood')\n",
    "subway.get_shop_type()"
   ]
  },
  {
   "cell_type": "code",
   "execution_count": 81,
   "metadata": {},
   "outputs": [
    {
     "name": "stdout",
     "output_type": "stream",
     "text": [
      "not the right type choose from sandwich, fastfood\n"
     ]
    }
   ],
   "source": [
    "subway.set_shop_type('shop')"
   ]
  },
  {
   "cell_type": "code",
   "execution_count": 82,
   "metadata": {},
   "outputs": [
    {
     "data": {
      "text/plain": [
       "property"
      ]
     },
     "execution_count": 82,
     "metadata": {},
     "output_type": "execute_result"
    }
   ],
   "source": [
    "property"
   ]
  },
  {
   "cell_type": "code",
   "execution_count": 100,
   "metadata": {},
   "outputs": [],
   "source": [
    "class Shop:\n",
    "    SHOP_TYPE_LIST = ['sandwich','fastfood']\n",
    "    \n",
    "    def __init__(self, name, shop_type, address):\n",
    "        self.name = name\n",
    "        self.__shop_type = shop_type\n",
    "        self.address = address\n",
    "    def show_info(self):\n",
    "        print(f'Shop: {self.name} \\n type : {self.shop_type} \\n address: {self.address}')\n",
    "\n",
    "    def change_type(self, new_shop_type):\n",
    "        self.__shop_type = new_shop_type\n",
    "    \n",
    "    def get_shop_type(self):\n",
    "        return self.__shop_type\n",
    "    \n",
    "    #setter attr\n",
    "    def set_shop_type(self, new_shop_type):\n",
    "        if new_shop_type in self.SHOP_TYPE_LIST:\n",
    "            self.__shop_type = new_shop_type\n",
    "        else:\n",
    "            print('not the right type choose from {}'.format(', '.join(self.SHOP_TYPE_LIST)))\n",
    "    \n",
    "    #getter\n",
    "    @property\n",
    "    def shop_type(self):\n",
    "        return self.__shop_type\n",
    "    \n",
    "    #setter property decorator\n",
    "    #<getter property method name>.setter\n",
    "    @shop_type.setter\n",
    "    def shop_type(self, new_shop_type):\n",
    "        if new_shop_type in self.SHOP_TYPE_LIST:\n",
    "            self.__shop_type = new_shop_type\n",
    "        else:\n",
    "            print('not the right type choose from {}'.format(', '.join(self.SHOP_TYPE_LIST)))\n",
    "    "
   ]
  },
  {
   "cell_type": "code",
   "execution_count": 101,
   "metadata": {},
   "outputs": [
    {
     "data": {
      "text/plain": [
       "'sandwich'"
      ]
     },
     "execution_count": 101,
     "metadata": {},
     "output_type": "execute_result"
    }
   ],
   "source": [
    "subway = Shop('Subway','sandwich','Seoul')\n",
    "subway.shop_type"
   ]
  },
  {
   "cell_type": "code",
   "execution_count": 103,
   "metadata": {},
   "outputs": [
    {
     "name": "stdout",
     "output_type": "stream",
     "text": [
      "not the right type choose from sandwich, fastfood\n"
     ]
    }
   ],
   "source": [
    "#property makes the return back to the function\n",
    "subway.shop_type\n",
    "subway.shop_type = 'fasg'"
   ]
  },
  {
   "cell_type": "markdown",
   "metadata": {},
   "source": [
    "## inheritance"
   ]
  },
  {
   "cell_type": "markdown",
   "metadata": {},
   "source": [
    "기존 클래스의 모든 요소들을 상속받는 새로운 클래스 "
   ]
  },
  {
   "cell_type": "code",
   "execution_count": null,
   "metadata": {},
   "outputs": [],
   "source": []
  },
  {
   "cell_type": "code",
   "execution_count": 174,
   "metadata": {},
   "outputs": [],
   "source": []
  },
  {
   "cell_type": "code",
   "execution_count": 175,
   "metadata": {},
   "outputs": [],
   "source": [
    "class Shop:\n",
    "    SHOP_TYPE_LIST = ['sandwich','fastfood']\n",
    "    \n",
    "    def __init__(self, name, shop_type, address):\n",
    "        self.name = name\n",
    "        self._shop_type = shop_type\n",
    "        self.address = address\n",
    "    def show_info(self):\n",
    "        print(info)\n",
    "\n",
    "    def change_type(self, new_shop_type):\n",
    "        self._shop_type = new_shop_type\n",
    "    \n",
    "    def get_shop_type(self):\n",
    "        return self._shop_type\n",
    "    \n",
    "    #setter attr\n",
    "    def set_shop_type(self, new_shop_type):\n",
    "        if new_shop_type in self.SHOP_TYPE_LIST:\n",
    "            self._shop_type = new_shop_type\n",
    "        else:\n",
    "            print('not the right type choose from {}'.format(', '.join(self.SHOP_TYPE_LIST)))\n",
    " \n",
    "    @property\n",
    "    def info(self):\n",
    "        '''restaurant information is passed'''\n",
    "        return (f'shop : {self.name} \\n'\n",
    "                f'type : {self.shop_type} \\n'\n",
    "                f'address: {self.address}')\n",
    "        \n",
    "    #getter\n",
    "    @property\n",
    "    def shop_type(self):\n",
    "        return self._shop_type\n",
    "    \n",
    "    #setter property decorator\n",
    "    #<getter property method name>.setter\n",
    "    @shop_type.setter\n",
    "    def shop_type(self, new_shop_type):\n",
    "        if new_shop_type in self.SHOP_TYPE_LIST:\n",
    "            self._shop_type = new_shop_type\n",
    "        else:\n",
    "            print('not the right type choose from {}'.format(', '.join(self.SHOP_TYPE_LIST)))\n",
    "    "
   ]
  },
  {
   "cell_type": "code",
   "execution_count": 178,
   "metadata": {},
   "outputs": [],
   "source": [
    "# Restaurant 클래스의 __init__ 재정의 \n",
    "# shoptype을 받지 않고 rating을 받음 \n",
    "# 부모 클래스의 초기화 메서드를 super().__init__()을 사용해 호출하고\n",
    "# name 에 입력받은 매개변수 name 의 값 \n",
    "# address에 입력받은 address의 값\n",
    "# 추가적으로 인스턴스의 rating 속성에 매개변수 rating 값을 할당"
   ]
  },
  {
   "cell_type": "code",
   "execution_count": 213,
   "metadata": {},
   "outputs": [],
   "source": [
    "class Restaurant(Shop):\n",
    "    def __init__(self, name, address, rating):\n",
    "        super().__init__(name=name, shop_type='shop', address=address)\n",
    "        self.rating = rating\n",
    "\n",
    "    @property\n",
    "    def info_property(self):\n",
    "        return 'Restaurant'+super().info_property[4:]"
   ]
  },
  {
   "cell_type": "code",
   "execution_count": 215,
   "metadata": {},
   "outputs": [],
   "source": [
    "sb = Restaurant('starbucks','seoul','10')\n",
    "sb2 = Shop('starbucks','fastfood','seoul')"
   ]
  },
  {
   "cell_type": "code",
   "execution_count": null,
   "metadata": {},
   "outputs": [],
   "source": []
  }
 ],
 "metadata": {
  "kernelspec": {
   "display_name": "Python 3",
   "language": "python",
   "name": "python3"
  },
  "language_info": {
   "codemirror_mode": {
    "name": "ipython",
    "version": 3
   },
   "file_extension": ".py",
   "mimetype": "text/x-python",
   "name": "python",
   "nbconvert_exporter": "python",
   "pygments_lexer": "ipython3",
   "version": "3.6.6"
  }
 },
 "nbformat": 4,
 "nbformat_minor": 2
}
