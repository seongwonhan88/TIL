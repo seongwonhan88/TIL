{
 "cells": [
  {
   "cell_type": "markdown",
   "metadata": {},
   "source": [
    "# python function(cont)"
   ]
  },
  {
   "cell_type": "markdown",
   "metadata": {},
   "source": [
    "## closure (함수가 정의된 환경)\n",
    "함수가 모듈로 활동하게 될 때에 어디까지 영향을 받는가? \n",
    "module_a 를 받는 module_b를 만들어보자 "
   ]
  },
  {
   "cell_type": "markdown",
   "metadata": {},
   "source": [
    "#module_a.py\n",
    "level = 100\n",
    "def print_level():\n",
    "    print(level)\n",
    "\n",
    "#module_b.py\n",
    "import module_a\n",
    "level = 50\n",
    "def print_level():\n",
    "    print(level)\n",
    "\n",
    "module_a.print_level()\n",
    "print_level()\n",
    "\n",
    "#python에서 module_b를 실행 할 경우 100 50 이라는 결과값이 출력된다.\n"
   ]
  },
  {
   "cell_type": "markdown",
   "metadata": {},
   "source": [
    "하나의 모듈에서 전역 변수로 선언되면 모듈에 영역에 영향을 받게된다."
   ]
  },
  {
   "cell_type": "markdown",
   "metadata": {},
   "source": [
    "## 내부함수의 closure"
   ]
  },
  {
   "cell_type": "code",
   "execution_count": 27,
   "metadata": {},
   "outputs": [],
   "source": [
    "# 함수가 동작하기 위해 필요한 영역을 closure로 받음 \n",
    "level = 0\n",
    "def outer():\n",
    "    level = 50\n",
    "    def inner():\n",
    "        nonlocal level\n",
    "        level += 3 \n",
    "        print(level)\n",
    "    return inner \n",
    "f1 = outer()\n",
    "f2 = outer()"
   ]
  },
  {
   "cell_type": "code",
   "execution_count": 28,
   "metadata": {},
   "outputs": [
    {
     "data": {
      "text/plain": [
       "4346710624"
      ]
     },
     "execution_count": 28,
     "metadata": {},
     "output_type": "execute_result"
    }
   ],
   "source": [
    "id(f1)"
   ]
  },
  {
   "cell_type": "code",
   "execution_count": 29,
   "metadata": {},
   "outputs": [
    {
     "data": {
      "text/plain": [
       "4346708584"
      ]
     },
     "execution_count": 29,
     "metadata": {},
     "output_type": "execute_result"
    }
   ],
   "source": [
    "id(f2)"
   ]
  },
  {
   "cell_type": "markdown",
   "metadata": {},
   "source": [
    "## decorator\n",
    "함수를 받아 다른 함수를 반환하는 함수\n",
    "1. 기능을 추가할 함수를 인자로 받음 \n",
    "2. 데코레이터 자체에 추가할 기능을 함수로 정의\n",
    "3. 인자로받은 함수를 데코레이터 내부에서 적절히 호출\n",
    "4. 2-3을 행하는 내부함수를 반환\n",
    "\n",
    "*기존 함수의 동작을 변형시키지 않고!! 가 중요*"
   ]
  },
  {
   "cell_type": "code",
   "execution_count": 54,
   "metadata": {},
   "outputs": [],
   "source": [
    "def square(x):\n",
    "    result = x ** 2\n",
    "    return result\n",
    "\n",
    "def multi(x,y):\n",
    "    result = x * y \n",
    "    return result"
   ]
  },
  {
   "cell_type": "code",
   "execution_count": 55,
   "metadata": {},
   "outputs": [],
   "source": [
    "result1 = square(3)\n",
    "result2 = multi(3,5)"
   ]
  },
  {
   "cell_type": "code",
   "execution_count": 60,
   "metadata": {},
   "outputs": [],
   "source": [
    "# def debug \n",
    "# 1. 매개변수로 함수 하나를 사용\n",
    "#    매개변수명은 f \n",
    "# 2. 내장함수 wrap을 정의 \n",
    "#   wrap 함수는 위치인자 묶음과 키워드인자 묶음을 모두 받을 수 있도록 정의\n",
    "# 3. wrap 함수에서 매개변수 f 실행\n",
    "#    f 실행 시 위치인자, 키워드인자 전달 > 결과를 result에 할당 \n",
    "# 4. wrap 함수의 마지막에서 result 값을 리턴 \n",
    "# 5. debug 함수의 마지막에서 wrap 함수 자체를 리턴\n",
    "\n",
    "def debug(f):\n",
    "    def wrap(*args, **kwargs):\n",
    "        result = f(*args, **kwargs)\n",
    "        print('args', args)\n",
    "        print('kwargs', kwargs)\n",
    "        print('result', result)\n",
    "        return result\n",
    "    return wrap\n"
   ]
  },
  {
   "cell_type": "code",
   "execution_count": 62,
   "metadata": {},
   "outputs": [
    {
     "name": "stdout",
     "output_type": "stream",
     "text": [
      "args (3,)\n",
      "kwargs {}\n",
      "result 9\n",
      "args (3, 4)\n",
      "kwargs {}\n",
      "result 12\n"
     ]
    },
    {
     "data": {
      "text/plain": [
       "12"
      ]
     },
     "execution_count": 62,
     "metadata": {},
     "output_type": "execute_result"
    }
   ],
   "source": [
    "# debug 함수의 인자로 square 함수를 자체전달\n",
    "# 결과값을 decorated_Square 변수에 할당 \n",
    "# 새 변수를 실행해보기\n",
    "\n",
    "decorated_square = debug(square)\n",
    "decorated_square(3)\n",
    "decorated_multi = debug(multi)\n",
    "decorated_multi(3,4)"
   ]
  },
  {
   "cell_type": "code",
   "execution_count": null,
   "metadata": {},
   "outputs": [],
   "source": [
    "decorated_square(3,3)\n",
    "# original 함수가 받을 수 있는 제약을 동시에 따라간다 "
   ]
  },
  {
   "cell_type": "markdown",
   "metadata": {},
   "source": [
    "## decorator 형식을 가진 함수는 @을 사용하여 조금 더 쉽게 활용이 가능하다\n",
    "\n"
   ]
  },
  {
   "cell_type": "code",
   "execution_count": 64,
   "metadata": {},
   "outputs": [],
   "source": [
    "@debug\n",
    "def square(x):\n",
    "    result = x ** 2\n",
    "    return result\n",
    "@debug\n",
    "def multi(x,y):\n",
    "    result = x * y \n",
    "    return result"
   ]
  },
  {
   "cell_type": "code",
   "execution_count": 65,
   "metadata": {},
   "outputs": [
    {
     "name": "stdout",
     "output_type": "stream",
     "text": [
      "args (3,)\n",
      "kwargs {}\n",
      "result 9\n"
     ]
    },
    {
     "data": {
      "text/plain": [
       "9"
      ]
     },
     "execution_count": 65,
     "metadata": {},
     "output_type": "execute_result"
    }
   ],
   "source": [
    "square(3)\n"
   ]
  },
  {
   "cell_type": "markdown",
   "metadata": {},
   "source": [
    "## Generator\n",
    "sequence데이터를 사용할 때 사용되는 함수. 데이터 생성을 위한 루틴만 가지고 있음 eg. range()\n",
    "실제 메모리를 할당하지 않기 때문에 효율적으로 사용하기 위해 사용한다. "
   ]
  },
  {
   "cell_type": "code",
   "execution_count": 68,
   "metadata": {},
   "outputs": [
    {
     "name": "stdout",
     "output_type": "stream",
     "text": [
      "1\n",
      "2\n",
      "3\n",
      "4\n",
      "5\n",
      "6\n",
      "7\n",
      "8\n",
      "9\n",
      "10\n"
     ]
    }
   ],
   "source": [
    "for i in [1,2,3,4,5,6,7,8,9,10]:\n",
    "    print(i)\n"
   ]
  },
  {
   "cell_type": "code",
   "execution_count": 69,
   "metadata": {},
   "outputs": [
    {
     "name": "stdout",
     "output_type": "stream",
     "text": [
      "1\n",
      "2\n",
      "3\n",
      "4\n",
      "5\n",
      "6\n",
      "7\n",
      "8\n",
      "9\n",
      "10\n"
     ]
    }
   ],
   "source": [
    "for i in range(1,11):\n",
    "    print(i)"
   ]
  },
  {
   "cell_type": "code",
   "execution_count": 81,
   "metadata": {},
   "outputs": [
    {
     "name": "stdout",
     "output_type": "stream",
     "text": [
      "<generator object range_gen at 0x10316b258>\n"
     ]
    }
   ],
   "source": [
    "def range_gen(num):\n",
    "    i = 0\n",
    "    while i < num:\n",
    "        yield i\n",
    "        i += 1\n",
    "# yeild 를 넣으면 본인이 호출되기 전까지 대기한다. 그리고 함수는 generator 로 인식된다. \n",
    "result = range_gen(10)\n",
    "print((result))"
   ]
  },
  {
   "cell_type": "code",
   "execution_count": 78,
   "metadata": {},
   "outputs": [],
   "source": [
    "for i in result:\n",
    "    print(i)"
   ]
  },
  {
   "cell_type": "code",
   "execution_count": 79,
   "metadata": {},
   "outputs": [
    {
     "data": {
      "text/plain": [
       "<method-wrapper '__next__' of generator object at 0x10316b048>"
      ]
     },
     "execution_count": 79,
     "metadata": {},
     "output_type": "execute_result"
    }
   ],
   "source": [
    "# generator의 경우 자기가 어디까지 할당되는지 알고 있음. 1회성. \n",
    "result.__next__"
   ]
  },
  {
   "cell_type": "code",
   "execution_count": 94,
   "metadata": {},
   "outputs": [
    {
     "ename": "StopIteration",
     "evalue": "",
     "output_type": "error",
     "traceback": [
      "\u001b[0;31m---------------------------------------------------------------------------\u001b[0m",
      "\u001b[0;31mStopIteration\u001b[0m                             Traceback (most recent call last)",
      "\u001b[0;32m<ipython-input-94-14e0ad753ed4>\u001b[0m in \u001b[0;36m<module>\u001b[0;34m()\u001b[0m\n\u001b[0;32m----> 1\u001b[0;31m \u001b[0mresult\u001b[0m\u001b[0;34m.\u001b[0m\u001b[0m__next__\u001b[0m\u001b[0;34m(\u001b[0m\u001b[0;34m)\u001b[0m\u001b[0;34m\u001b[0m\u001b[0m\n\u001b[0m\u001b[1;32m      2\u001b[0m \u001b[0;31m# next의 마지막이 호출되면 iteration(순회)이 멈추며 에러메시지 전달\u001b[0m\u001b[0;34m\u001b[0m\u001b[0;34m\u001b[0m\u001b[0m\n\u001b[1;32m      3\u001b[0m \u001b[0mnext\u001b[0m\u001b[0;34m(\u001b[0m\u001b[0mresult\u001b[0m\u001b[0;34m)\u001b[0m\u001b[0;34m\u001b[0m\u001b[0m\n",
      "\u001b[0;31mStopIteration\u001b[0m: "
     ]
    }
   ],
   "source": [
    "result.__next__()\n",
    "# next의 마지막이 호출되면 iteration(순회)이 멈추며 에러메시지 전달\n",
    "next(result)"
   ]
  },
  {
   "cell_type": "markdown",
   "metadata": {},
   "source": [
    "### 아래 예시들은 같은 내용임 magic method 활용"
   ]
  },
  {
   "cell_type": "code",
   "execution_count": 95,
   "metadata": {},
   "outputs": [
    {
     "name": "stdout",
     "output_type": "stream",
     "text": [
      "<generator object range_gen at 0x10316b258>\n"
     ]
    }
   ],
   "source": [
    "print(result)"
   ]
  },
  {
   "cell_type": "code",
   "execution_count": 98,
   "metadata": {},
   "outputs": [
    {
     "data": {
      "text/plain": [
       "'<generator object range_gen at 0x10316b258>'"
      ]
     },
     "execution_count": 98,
     "metadata": {},
     "output_type": "execute_result"
    }
   ],
   "source": [
    "result.__str__()"
   ]
  },
  {
   "cell_type": "code",
   "execution_count": 97,
   "metadata": {},
   "outputs": [
    {
     "data": {
      "text/plain": [
       "4"
      ]
     },
     "execution_count": 97,
     "metadata": {},
     "output_type": "execute_result"
    }
   ],
   "source": [
    "len('ABCS')"
   ]
  },
  {
   "cell_type": "code",
   "execution_count": 99,
   "metadata": {},
   "outputs": [
    {
     "data": {
      "text/plain": [
       "4"
      ]
     },
     "execution_count": 99,
     "metadata": {},
     "output_type": "execute_result"
    }
   ],
   "source": [
    "'ABCS'.__len__()"
   ]
  },
  {
   "cell_type": "markdown",
   "metadata": {},
   "source": [
    "## 실습"
   ]
  },
  {
   "cell_type": "code",
   "execution_count": 100,
   "metadata": {},
   "outputs": [],
   "source": [
    "# 1. 매개변수로 문자열을 받고 문자열이 red 면 apple, yellow - banana, green - melon else이면 i don't know return"
   ]
  },
  {
   "cell_type": "code",
   "execution_count": 104,
   "metadata": {},
   "outputs": [
    {
     "data": {
      "text/plain": [
       "\"I don't know\""
      ]
     },
     "execution_count": 104,
     "metadata": {},
     "output_type": "execute_result"
    }
   ],
   "source": [
    "def fruit(arg):\n",
    "    if arg == 'red':\n",
    "        return 'apple'\n",
    "    elif arg == 'yellow':\n",
    "        return 'banana'\n",
    "    elif arg == 'green':\n",
    "        return 'melon'\n",
    "    else:\n",
    "        return 'I don\\'t know'\n",
    "\n",
    "fruit('')"
   ]
  },
  {
   "cell_type": "code",
   "execution_count": 185,
   "metadata": {},
   "outputs": [],
   "source": [
    "get_fruit_dict = {\n",
    "    'red': 'apple',\n",
    "    'yellow' : 'banana',\n",
    "    'green' : 'melon'\n",
    "}\n",
    "\n",
    "def fruit_get(color):\n",
    "    return get_fruit_dict.get(color, \"I don't know\")"
   ]
  },
  {
   "cell_type": "code",
   "execution_count": 105,
   "metadata": {},
   "outputs": [],
   "source": [
    "# 2. 1번에서 작성한 함수에 docstring을 작성하여 함수에 대한 설명을 달아보고, help(함수명)으로 해당 설명을 출력해본다."
   ]
  },
  {
   "cell_type": "code",
   "execution_count": 106,
   "metadata": {},
   "outputs": [],
   "source": [
    "def fruit(arg):\n",
    "    '''\n",
    "    this is a function which takes color as  parameter and returns fruit in accorance.\n",
    "    '''\n",
    "    if arg == 'red':\n",
    "        return 'apple'\n",
    "    elif arg == 'yellow':\n",
    "        return 'banana'\n",
    "    elif arg == 'green':\n",
    "        return 'melon'\n",
    "    else:\n",
    "        return 'I don\\'t know'"
   ]
  },
  {
   "cell_type": "code",
   "execution_count": 107,
   "metadata": {},
   "outputs": [
    {
     "name": "stdout",
     "output_type": "stream",
     "text": [
      "Help on function fruit in module __main__:\n",
      "\n",
      "fruit(arg)\n",
      "    this is a function which takes color as  parameter and returns fruit in accorance.\n",
      "\n"
     ]
    }
   ],
   "source": [
    "help(fruit)"
   ]
  },
  {
   "cell_type": "code",
   "execution_count": 184,
   "metadata": {},
   "outputs": [
    {
     "data": {
      "text/plain": [
       "25"
      ]
     },
     "execution_count": 184,
     "metadata": {},
     "output_type": "execute_result"
    }
   ],
   "source": [
    "\n",
    "def take_number(*arg):\n",
    "    \n",
    "    if len(arg) == 1:\n",
    "        result = list(arg)\n",
    "        return result[0]**2\n",
    "    \n",
    "    elif len(arg) == 2:\n",
    "        num1, num2 = arg\n",
    "        result = num1 * num2\n",
    "        return result\n",
    "\n",
    "take_number(5)"
   ]
  },
  {
   "cell_type": "code",
   "execution_count": 186,
   "metadata": {},
   "outputs": [],
   "source": [
    "def take_one_or_two(arg1, arg2=None):\n",
    "    if arg2:\n",
    "        return arg1*arg2\n",
    "    else: \n",
    "        return arg1**2"
   ]
  },
  {
   "cell_type": "code",
   "execution_count": 180,
   "metadata": {},
   "outputs": [
    {
     "data": {
      "text/plain": [
       "2"
      ]
     },
     "execution_count": 180,
     "metadata": {},
     "output_type": "execute_result"
    }
   ],
   "source": [
    "#위치인자 묶음을 매개변수로 가지며, 위치인자가 몇 개 전달되었는지를 print하고 개수를 리턴해주는 함수를 정의하고 사용해본다.\n",
    "def print_return(*args):\n",
    "    result = len(args)\n",
    "    return result\n",
    "\n",
    "print_return('param1','param2')"
   ]
  },
  {
   "cell_type": "code",
   "execution_count": 188,
   "metadata": {},
   "outputs": [],
   "source": [
    "# 람다함수와 리스트 컴프리헨션을 사용해 한 줄로 구구단의 결과를 갖는 리스트를 생성해본다.\n",
    "# for x in range(1,9):\n",
    "#     for y in range(1,9):\n",
    "#         print(f'{x} x {y} = {x*y}')\n",
    "\n",
    "# multi = [x*y for x in range(1,10) for y in range(1,10)]\n",
    "\n",
    "def make_str(x,y):\n",
    "    return f'{x} * {y} = {x*y}'\n",
    "multiplication = [(lambda x,y : f'{x}*{y}={x*y}')(a,b) for a in range(2,10) for b in range(2,10)]"
   ]
  },
  {
   "cell_type": "code",
   "execution_count": null,
   "metadata": {},
   "outputs": [],
   "source": []
  }
 ],
 "metadata": {
  "kernelspec": {
   "display_name": "Python 3",
   "language": "python",
   "name": "python3"
  },
  "language_info": {
   "codemirror_mode": {
    "name": "ipython",
    "version": 3
   },
   "file_extension": ".py",
   "mimetype": "text/x-python",
   "name": "python",
   "nbconvert_exporter": "python",
   "pygments_lexer": "ipython3",
   "version": "3.6.6"
  }
 },
 "nbformat": 4,
 "nbformat_minor": 2
}
