{
 "cells": [
  {
   "cell_type": "code",
   "execution_count": 2,
   "metadata": {},
   "outputs": [],
   "source": [
    "class Library():\n",
    "    def __init__(self, name):\n",
    "        self.name = name\n",
    "        self.book_list = []    \n",
    "       \n",
    "    def add_book(self, book):\n",
    "        self.book_list.append(book)\n",
    "        book.borrowed = False\n",
    "        book.location = self.name\n",
    "        print(f'{book.title} is added to {self.name}')\n",
    "        self.info\n",
    "    \n",
    "    def remove_book(self, book):\n",
    "        self.book_list.remove(book)\n",
    "        book.borrowed = True\n",
    "        book.location = None\n",
    "        print(f'{book.title} is removed from {self.name}')\n",
    "        self.info\n",
    "        \n",
    "    @property\n",
    "    def info(self):\n",
    "        print(f'The current books available in {self.name}')\n",
    "        for item in self.book_list:\n",
    "            print(f'{item.title}')\n",
    "\n",
    "class Book():\n",
    "    def __init__(self, title):\n",
    "        self.title = title\n",
    "        self.location = None\n",
    "        self.borrowed = None\n",
    "    \n",
    "    @property\n",
    "    def is_borrowed(self,):\n",
    "        if self.borrowed == True:\n",
    "            print(f'{self.title} is borrowed')\n",
    "        elif self.borrowed == False:\n",
    "            print(f'you can rent {self.title}')\n",
    "        else:\n",
    "            print('no such book exists')            \n",
    "\n",
    "class User():\n",
    "    def __init__(self,name):\n",
    "        self.name = name\n",
    "        self.book_list = []\n",
    "    \n",
    "    def borrow_book(self, library, book):\n",
    "        library.book_list.remove(book)\n",
    "        self.book_list.append(book)\n",
    "        book.borrowed = True\n",
    "        book.location = self.name\n",
    "        print(f'{user.name} borrowed {book.title} from {library.name}')\n",
    "\n",
    "    def return_book(self, library, book):\n",
    "        library.book_list.append(book)\n",
    "        self.book_list.remove(book)\n",
    "        book.borrowed = False\n",
    "        book.location = library.name\n",
    "        print(f'{user.name} returned {book.title} to {library.name}')"
   ]
  },
  {
   "cell_type": "code",
   "execution_count": 89,
   "metadata": {},
   "outputs": [],
   "source": [
    "lib1 = Library('Main Library')"
   ]
  },
  {
   "cell_type": "code",
   "execution_count": 90,
   "metadata": {},
   "outputs": [],
   "source": [
    "book1 = Book('Les Miserables')\n",
    "book2 = Book('Game of Throne')\n",
    "book3 = Book('Sherlock Holmes')"
   ]
  },
  {
   "cell_type": "code",
   "execution_count": 91,
   "metadata": {},
   "outputs": [
    {
     "name": "stdout",
     "output_type": "stream",
     "text": [
      "Les Miserables is added to Main Library\n",
      "The current books available in Main Library\n",
      "Les Miserables\n",
      "Game of Throne is added to Main Library\n",
      "The current books available in Main Library\n",
      "Les Miserables\n",
      "Game of Throne\n",
      "Sherlock Holmes is added to Main Library\n",
      "The current books available in Main Library\n",
      "Les Miserables\n",
      "Game of Throne\n",
      "Sherlock Holmes\n"
     ]
    }
   ],
   "source": [
    "lib1.add_book(book1)\n",
    "lib1.add_book(book2)\n",
    "lib1.add_book(book3)"
   ]
  },
  {
   "cell_type": "code",
   "execution_count": 92,
   "metadata": {},
   "outputs": [],
   "source": [
    "user = User('Seongwon')"
   ]
  },
  {
   "cell_type": "code",
   "execution_count": 93,
   "metadata": {},
   "outputs": [
    {
     "name": "stdout",
     "output_type": "stream",
     "text": [
      "Seongwon borrowed Les Miserables from Main Library\n"
     ]
    }
   ],
   "source": [
    "user.borrow_book(lib1, book1)"
   ]
  },
  {
   "cell_type": "code",
   "execution_count": null,
   "metadata": {},
   "outputs": [],
   "source": []
  },
  {
   "cell_type": "code",
   "execution_count": null,
   "metadata": {},
   "outputs": [],
   "source": []
  }
 ],
 "metadata": {
  "kernelspec": {
   "display_name": "Python 3",
   "language": "python",
   "name": "python3"
  },
  "language_info": {
   "codemirror_mode": {
    "name": "ipython",
    "version": 3
   },
   "file_extension": ".py",
   "mimetype": "text/x-python",
   "name": "python",
   "nbconvert_exporter": "python",
   "pygments_lexer": "ipython3",
   "version": "3.6.6"
  }
 },
 "nbformat": 4,
 "nbformat_minor": 2
}
