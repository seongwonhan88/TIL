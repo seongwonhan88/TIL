{
 "cells": [
  {
   "cell_type": "code",
   "execution_count": 30,
   "metadata": {},
   "outputs": [],
   "source": [
    "class Library:\n",
    "    def __init__(self, name, book_list):\n",
    "        self.name = name\n",
    "        self.book_list = book_list\n",
    "\n",
    "    def __repr__(self):\n",
    "        return f'Library({self.name}) [id:{id(self)}]'\n",
    "    \n",
    "    def add_book(self, book_title):\n",
    "        '''add the book_name from Book(instance) to the booklist '''\n",
    "        book = Book(book_title)\n",
    "        for book in self.book_list:\n",
    "            if book.title == book_title:\n",
    "                print('we have this book')\n",
    "                break\n",
    "        else:\n",
    "            self.book_list.append(book)\n",
    "            print(f'{book_title} has been added to the book_list')\n",
    "            \n",
    "    def remove_book(self, book_title):\n",
    "        '''remove the book_name from the booklist '''\n",
    "        book = Book(book_title)\n",
    "        for book in self.book_list:\n",
    "            if book.title == book_title:\n",
    "                print('removing book...')\n",
    "                self.book_list.remove(book)\n",
    "                print('removed!')\n",
    "                break\n",
    "        else: \n",
    "            print(f'{book_title} does not exist in our list')\n",
    "    \n",
    "    @property\n",
    "    def info(self):\n",
    "        '''return the instances current book list'''\n",
    "        \n",
    "        \n",
    "#         result = \"\"\n",
    "#         result += f'{self.name} currently has..'\n",
    "#         for index, book in enumerate(self.book_list, start=1):\n",
    "#             result += f'{index}.{book.title}\\n'\n",
    "#         result += f'total {len(self.book_list)} books are available'\n",
    "#         return result\n",
    "    \n",
    "        return '{info_title}\\n{book_list}\\n{total}'.format(\n",
    "            info_title = self.name,\n",
    "            book_list= '\\n'.join([f'{index}.{x.title}' for index, x in enumerate(self.book_list)]),\n",
    "            total= len(self.book_list),\n",
    "        )"
   ]
  },
  {
   "cell_type": "code",
   "execution_count": 31,
   "metadata": {},
   "outputs": [],
   "source": [
    "class Book:\n",
    "    book_list = []\n",
    "    def __init__(self, title, location=None):\n",
    "        \"\"\"\n",
    "        when intialize, library instance is lcoated in location\n",
    "        \"\"\"\n",
    "        self.title = title\n",
    "        self.location = location\n",
    "        self.book_list.append(self)\n",
    "        \n",
    "    @classmethod\n",
    "    def show_total_book_info(cls):     \n",
    "        print('book list\\n {book_list} \\n {total}'.format(\n",
    "            book_list = '\\n'.join([f'{index}. {book.title}({book.location})' for index, book in enumerate(cls.book_list)]),\n",
    "            total = f'total {len(cls.book_list)}'\n",
    "        ))\n",
    "        \n",
    "                \n",
    "    def __repr__(self):\n",
    "        \"\"\"\n",
    "        객체를 표현하는 기본값 재 정의\n",
    "        chagne the representative to book title!\"\"\"\n",
    "        return f'Book({self.title}) [id:{id(self)}]'\n",
    "    \n",
    "    @property\n",
    "    def is_borrowed(self):\n",
    "        \"\"\"\n",
    "        return the location whether it's in user or library\"\"\"\n",
    "        if isinstance(self.location, User):\n",
    "            return True\n",
    "        else:\n",
    "            return False"
   ]
  },
  {
   "cell_type": "code",
   "execution_count": 32,
   "metadata": {},
   "outputs": [],
   "source": [
    "class User:\n",
    "    def __init__(self, name, book_list=None):\n",
    "        self.name = name \n",
    "        self.book_list = book_list if book_list else []\n",
    "    \n",
    "    def __repr__(self):\n",
    "        return f'User({self.name}) [id:{id(self)}]'\n",
    "\n",
    "    def borrow_book(self, library, book_title):\n",
    "        \"\"\"\n",
    "        borrow book from Library instance to User book_list\"\"\"\n",
    "        for book in library.book_list:\n",
    "            if book.title == book_title:\n",
    "                self.book_list.append(book)\n",
    "                library.book_list.remove(book)\n",
    "                book.location = self\n",
    "                print(f'{book.title} was successfully borrowed from {library.name}')\n",
    "                break\n",
    "        else:\n",
    "            print(f'no such book as {book.title} exist')\n",
    "        \n",
    "    def return_book(self, library, book_title):\n",
    "        \"\"\"\n",
    "        return book to Library instance from User book_list\"\"\"\n",
    "        for book in self.book_list:\n",
    "            if book.title == book_title:\n",
    "                self.book_list.remove(book)\n",
    "                library.book_list.append(book)\n",
    "                book.location = library\n",
    "                print(f'{book.title} has been returned to {library.name}')\n",
    "                break\n",
    "        else:\n",
    "            print('you do not have that book')"
   ]
  },
  {
   "cell_type": "code",
   "execution_count": 33,
   "metadata": {},
   "outputs": [],
   "source": [
    "library1 = Library('성수도서관', [])"
   ]
  },
  {
   "cell_type": "code",
   "execution_count": 40,
   "metadata": {},
   "outputs": [
    {
     "name": "stdout",
     "output_type": "stream",
     "text": [
      "ndsafsadew has been added to the book_list\n"
     ]
    }
   ],
   "source": [
    "library1.add_book('ndsafsadew')"
   ]
  },
  {
   "cell_type": "code",
   "execution_count": 41,
   "metadata": {},
   "outputs": [
    {
     "name": "stdout",
     "output_type": "stream",
     "text": [
      "성수도서관\n",
      "0.new asdfasdf\n",
      "1.new asdfasdf\n",
      "2.new asdfasdf\n",
      "3.new asdfasdf\n",
      "4\n"
     ]
    }
   ],
   "source": [
    "print(library1.info)"
   ]
  },
  {
   "cell_type": "code",
   "execution_count": 9,
   "metadata": {},
   "outputs": [],
   "source": [
    "user1 = User('Seongwon')"
   ]
  },
  {
   "cell_type": "code",
   "execution_count": null,
   "metadata": {},
   "outputs": [],
   "source": []
  },
  {
   "cell_type": "code",
   "execution_count": null,
   "metadata": {},
   "outputs": [],
   "source": []
  },
  {
   "cell_type": "code",
   "execution_count": null,
   "metadata": {},
   "outputs": [],
   "source": []
  }
 ],
 "metadata": {
  "kernelspec": {
   "display_name": "Python 3",
   "language": "python",
   "name": "python3"
  },
  "language_info": {
   "codemirror_mode": {
    "name": "ipython",
    "version": 3
   },
   "file_extension": ".py",
   "mimetype": "text/x-python",
   "name": "python",
   "nbconvert_exporter": "python",
   "pygments_lexer": "ipython3",
   "version": "3.6.6"
  }
 },
 "nbformat": 4,
 "nbformat_minor": 2
}
