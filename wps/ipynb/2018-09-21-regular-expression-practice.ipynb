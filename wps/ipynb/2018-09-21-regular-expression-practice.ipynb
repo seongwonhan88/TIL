{
 "cells": [
  {
   "cell_type": "code",
   "execution_count": 26,
   "metadata": {},
   "outputs": [],
   "source": [
    "story = \"\"\"Born to the prestigious Crownguards, the paragon family of Demacian service, Luxanna was destined for greatness. She grew up as the family's only daughter, and she immediately took to the advanced education and lavish parties required of families as high profile as the Crownguards. As Lux matured, it became clear that she was extraordinarily gifted. She could play tricks that made people believe they had seen things that did not actually exist. She could also hide in plain sight. Somehow, she was able to reverse engineer arcane magical spells after seeing them cast only once. She was hailed as a prodigy, drawing the affections of the Demacian government, military, and citizens alike.\n",
    "\n",
    "As one of the youngest women to be tested by the College of Magic, she was discovered to possess a unique command over the powers of light. The young Lux viewed this as a great gift, something for her to embrace and use in the name of good. Realizing her unique skills, the Demacian military recruited and trained her in covert operations. She quickly became renowned for her daring achievements; the most dangerous of which found her deep in the chambers of the Noxian High Command. She extracted valuable inside information about the Noxus-Ionian conflict, earning her great favor with Demacians and Ionians alike. However, reconnaissance and surveillance was not for her. A light of her people, Lux's true calling was the League of Legends, where she could follow in her brother's footsteps and unleash her gifts as an inspiration for all of Demacia.\n",
    "\n",
    "\"\"\""
   ]
  },
  {
   "cell_type": "code",
   "execution_count": 27,
   "metadata": {},
   "outputs": [
    {
     "data": {
      "text/plain": [
       "\"Born to the prestigious Crownguards, the paragon family of Demacian service, Luxanna was destined for greatness. She grew up as the family's only daughter, and she immediately took to the advanced education and lavish parties required of families as high profile as the Crownguards. As Lux matured, it became clear that she was extraordinarily gifted. She could play tricks that made people believe they had seen things that did not actually exist. She could also hide in plain sight. Somehow, she was able to reverse engineer arcane magical spells after seeing them cast only once. She was hailed as a prodigy, drawing the affections of the Demacian government, military, and citizens alike.\\n\\nAs one of the youngest women to be tested by the College of Magic, she was discovered to possess a unique command over the powers of light. The young Lux viewed this as a great gift, something for her to embrace and use in the name of good. Realizing her unique skills, the Demacian military recruited and trained her in covert operations. She quickly became renowned for her daring achievements; the most dangerous of which found her deep in the chambers of the Noxian High Command. She extracted valuable inside information about the Noxus-Ionian conflict, earning her great favor with Demacians and Ionians alike. However, reconnaissance and surveillance was not for her. A light of her people, Lux's true calling was the League of Legends, where she could follow in her brother's footsteps and unleash her gifts as an inspiration for all of Demacia.\\n\\n\""
      ]
     },
     "execution_count": 27,
     "metadata": {},
     "output_type": "execute_result"
    }
   ],
   "source": [
    "story"
   ]
  },
  {
   "cell_type": "code",
   "execution_count": 28,
   "metadata": {},
   "outputs": [],
   "source": [
    "import re, string\n"
   ]
  },
  {
   "cell_type": "code",
   "execution_count": 29,
   "metadata": {},
   "outputs": [
    {
     "data": {
      "text/plain": [
       "['Lux', 'Lux', 'Lux', 'Lux']"
      ]
     },
     "execution_count": 29,
     "metadata": {},
     "output_type": "execute_result"
    }
   ],
   "source": [
    "re.findall('Lux',story)"
   ]
  },
  {
   "cell_type": "code",
   "execution_count": 30,
   "metadata": {},
   "outputs": [
    {
     "data": {
      "text/plain": [
       "['Lux',\n",
       " 'she',\n",
       " 'Lux',\n",
       " 'she',\n",
       " 'she',\n",
       " 'she',\n",
       " 'Lux',\n",
       " 'her',\n",
       " 'her',\n",
       " 'her',\n",
       " 'her',\n",
       " 'her',\n",
       " 'her',\n",
       " 'her',\n",
       " 'her',\n",
       " 'Lux',\n",
       " 'her',\n",
       " 'she',\n",
       " 'her',\n",
       " 'her',\n",
       " 'her']"
      ]
     },
     "execution_count": 30,
     "metadata": {},
     "output_type": "execute_result"
    }
   ],
   "source": [
    "re.findall('Lux|her|she',story)"
   ]
  },
  {
   "cell_type": "code",
   "execution_count": 32,
   "metadata": {},
   "outputs": [
    {
     "data": {
      "text/plain": [
       "['Lux',\n",
       " 'She',\n",
       " 'she',\n",
       " 'Lux',\n",
       " 'she',\n",
       " 'She',\n",
       " 'She',\n",
       " 'she',\n",
       " 'She',\n",
       " 'she',\n",
       " 'Lux',\n",
       " 'her',\n",
       " 'her',\n",
       " 'her',\n",
       " 'She',\n",
       " 'her',\n",
       " 'her',\n",
       " 'She',\n",
       " 'her',\n",
       " 'her',\n",
       " 'her',\n",
       " 'Lux',\n",
       " 'her',\n",
       " 'she',\n",
       " 'her',\n",
       " 'her',\n",
       " 'her']"
      ]
     },
     "execution_count": 32,
     "metadata": {},
     "output_type": "execute_result"
    }
   ],
   "source": [
    "re.findall('[Ll]ux|[Hh]er|[Ss]he',story)"
   ]
  },
  {
   "cell_type": "code",
   "execution_count": 33,
   "metadata": {},
   "outputs": [
    {
     "data": {
      "text/plain": [
       "['Born']"
      ]
     },
     "execution_count": 33,
     "metadata": {},
     "output_type": "execute_result"
    }
   ],
   "source": [
    "re.findall('^Born',story)"
   ]
  },
  {
   "cell_type": "code",
   "execution_count": 38,
   "metadata": {},
   "outputs": [
    {
     "data": {
      "text/plain": [
       "['Demacia.\\n\\n']"
      ]
     },
     "execution_count": 38,
     "metadata": {},
     "output_type": "execute_result"
    }
   ],
   "source": [
    "re.findall('Demacia$',story)"
   ]
  },
  {
   "cell_type": "code",
   "execution_count": 39,
   "metadata": {},
   "outputs": [
    {
     "data": {
      "text/plain": [
       "['was', 'was', 'was', 'was', 'was', 'was', 'was']"
      ]
     },
     "execution_count": 39,
     "metadata": {},
     "output_type": "execute_result"
    }
   ],
   "source": [
    "re.findall('was',story)"
   ]
  },
  {
   "cell_type": "code",
   "execution_count": 41,
   "metadata": {},
   "outputs": [
    {
     "data": {
      "text/plain": [
       "[' was', ' was', ' was']"
      ]
     },
     "execution_count": 41,
     "metadata": {},
     "output_type": "execute_result"
    }
   ],
   "source": [
    "re.findall('(?<=she) was',story) #앞에 she 가 오는 경우"
   ]
  },
  {
   "cell_type": "code",
   "execution_count": 42,
   "metadata": {},
   "outputs": [
    {
     "data": {
      "text/plain": [
       "['Luxanna was', 'She was', 'surveillance was', 'calling was']"
      ]
     },
     "execution_count": 42,
     "metadata": {},
     "output_type": "execute_result"
    }
   ],
   "source": [
    "re.findall('\\w+(?<!she) was',story)"
   ]
  },
  {
   "cell_type": "code",
   "execution_count": 43,
   "metadata": {},
   "outputs": [
    {
     "data": {
      "text/plain": [
       "[]"
      ]
     },
     "execution_count": 43,
     "metadata": {},
     "output_type": "execute_result"
    }
   ],
   "source": [
    "re.findall('\\bwas\\b',story) # backspace를 는 패턴문자와 겹친다 "
   ]
  },
  {
   "cell_type": "code",
   "execution_count": 44,
   "metadata": {},
   "outputs": [
    {
     "data": {
      "text/plain": [
       "['was', 'was', 'was', 'was', 'was', 'was', 'was']"
      ]
     },
     "execution_count": 44,
     "metadata": {},
     "output_type": "execute_result"
    }
   ],
   "source": [
    "re.findall(r'\\bwas\\b',story)"
   ]
  },
  {
   "cell_type": "code",
   "execution_count": 46,
   "metadata": {},
   "outputs": [
    {
     "data": {
      "text/plain": [
       "<_sre.SRE_Match object; span=(77, 88), match='Luxanna was'>"
      ]
     },
     "execution_count": 46,
     "metadata": {},
     "output_type": "execute_result"
    }
   ],
   "source": [
    "re.search(r'\\w+\\b\\s*(was)',story)"
   ]
  },
  {
   "cell_type": "code",
   "execution_count": 57,
   "metadata": {},
   "outputs": [],
   "source": [
    "match_list = re.finditer(r'(\\w+)\\b\\s*was\\b\\s*(\\w+)',story)"
   ]
  },
  {
   "cell_type": "code",
   "execution_count": 66,
   "metadata": {},
   "outputs": [],
   "source": [
    "for m in match_list:\n",
    "    print(m.group(1),m.group(2))"
   ]
  },
  {
   "cell_type": "code",
   "execution_count": 64,
   "metadata": {},
   "outputs": [
    {
     "data": {
      "text/plain": [
       "[('Luxanna', 'destined'),\n",
       " ('she', 'extraordinarily'),\n",
       " ('she', 'able'),\n",
       " ('She', 'hailed'),\n",
       " ('she', 'discovered'),\n",
       " ('surveillance', 'not'),\n",
       " ('calling', 'the')]"
      ]
     },
     "execution_count": 64,
     "metadata": {},
     "output_type": "execute_result"
    }
   ],
   "source": [
    "re.findall(r'(\\w+)\\b\\s*was\\b\\s*(\\w+)',story)"
   ]
  },
  {
   "cell_type": "code",
   "execution_count": 67,
   "metadata": {},
   "outputs": [
    {
     "data": {
      "text/plain": [
       "[('Luxanna', 'destined'),\n",
       " ('she', 'extraordinarily'),\n",
       " ('she', 'able'),\n",
       " ('She', 'hailed'),\n",
       " ('she', 'discovered'),\n",
       " ('surveillance', 'not'),\n",
       " ('calling', 'the')]"
      ]
     },
     "execution_count": 67,
     "metadata": {},
     "output_type": "execute_result"
    }
   ],
   "source": [
    "# you can name your pattern \n",
    "re.findall(r'(?P<before_was>\\w+)\\b\\s*was\\b\\s*(?P<after_was>\\w+)',story)"
   ]
  },
  {
   "cell_type": "code",
   "execution_count": 73,
   "metadata": {},
   "outputs": [],
   "source": [
    "pattern_string = '(?P<before_was>\\w+)\\b\\s*was\\b\\s*(?P<after_was>\\w+)'\n",
    "pattern = re.compile(r'''\n",
    "    (?P<before_was>\\w+) # was가 오기 전의 단어\n",
    "    \\b\\s*was\\b\\s*       #was의 양쪽 공백이며 단어 경계를 포함하는 부분\n",
    "    (?P<after_was>\\w+)   # was가 나온 뒤의 단어\n",
    " ''',re.VERBOSE)"
   ]
  },
  {
   "cell_type": "code",
   "execution_count": 75,
   "metadata": {},
   "outputs": [
    {
     "name": "stdout",
     "output_type": "stream",
     "text": [
      "Luxanna, destined\n",
      "she, extraordinarily\n",
      "she, able\n",
      "She, hailed\n",
      "she, discovered\n",
      "surveillance, not\n",
      "calling, the\n"
     ]
    }
   ],
   "source": [
    "match_list = re.finditer(pattern, story)\n",
    "for m in match_list:\n",
    "    print('{}, {}'.format(m.group('before_was'), m.group('after_was')))"
   ]
  },
  {
   "cell_type": "code",
   "execution_count": 79,
   "metadata": {},
   "outputs": [
    {
     "name": "stdout",
     "output_type": "stream",
     "text": [
      "<html><body><h1>HTML</h1></body></html>\n"
     ]
    }
   ],
   "source": [
    "html = '<html><body><h1>HTML</h1></body></html>'\n",
    "\n",
    "m = re.match(r'<.*>',html)\n",
    "print(m.group())"
   ]
  },
  {
   "cell_type": "code",
   "execution_count": 80,
   "metadata": {},
   "outputs": [
    {
     "name": "stdout",
     "output_type": "stream",
     "text": [
      "<html>\n"
     ]
    }
   ],
   "source": [
    "html = '<html><body><h1>HTML</h1></body></html>'\n",
    "\n",
    "m = re.match(r'<.*?>',html)\n",
    "print(m.group())"
   ]
  },
  {
   "cell_type": "markdown",
   "metadata": {},
   "source": [
    "1. {m}패턴 지정자를 정해서 a로 시작하는 단어 4개 모두 찾기  "
   ]
  },
  {
   "cell_type": "code",
   "execution_count": 196,
   "metadata": {},
   "outputs": [
    {
     "data": {
      "text/plain": [
       "['also', 'able']"
      ]
     },
     "execution_count": 196,
     "metadata": {},
     "output_type": "execute_result"
    }
   ],
   "source": [
    "m = re.findall(r'\\ba\\w{3}\\b',story)\n",
    "m"
   ]
  },
  {
   "cell_type": "code",
   "execution_count": 198,
   "metadata": {},
   "outputs": [
    {
     "data": {
      "text/plain": [
       "['for',\n",
       " 'daughter',\n",
       " 'clear',\n",
       " 'engineer',\n",
       " 'after',\n",
       " 'over',\n",
       " 'for',\n",
       " 'her',\n",
       " 'her',\n",
       " 'her',\n",
       " 'for',\n",
       " 'her',\n",
       " 'her',\n",
       " 'her',\n",
       " 'favor',\n",
       " 'However',\n",
       " 'for',\n",
       " 'her',\n",
       " 'her',\n",
       " 'her',\n",
       " 'brother',\n",
       " 'her',\n",
       " 'for']"
      ]
     },
     "execution_count": 198,
     "metadata": {},
     "output_type": "execute_result"
    }
   ],
   "source": [
    "m = re.findall(r'\\w*r\\b',story)\n",
    "m"
   ]
  },
  {
   "cell_type": "code",
   "execution_count": 202,
   "metadata": {},
   "outputs": [
    {
     "data": {
      "text/plain": [
       "['advanced', 'became', 'made', 'embrace', 'became', 'deep']"
      ]
     },
     "execution_count": 202,
     "metadata": {},
     "output_type": "execute_result"
    }
   ],
   "source": [
    "m = re.findall(r'\\w*[abcde]{3}\\w*',story)\n",
    "m"
   ]
  },
  {
   "cell_type": "code",
   "execution_count": 211,
   "metadata": {},
   "outputs": [],
   "source": [
    "m_list = re.finditer(r'(<?P<before>\\w+)\\W*,\\W(?P<after>\\w+)',story)\n",
    "for m in m_list:\n",
    "    print(m.groups())"
   ]
  },
  {
   "cell_type": "code",
   "execution_count": 219,
   "metadata": {},
   "outputs": [
    {
     "name": "stdout",
     "output_type": "stream",
     "text": [
      "('Crownguards', 'the')\n",
      "('service', 'Luxanna')\n",
      "('daughter', 'and')\n",
      "('matured', 'it')\n",
      "('Somehow', 'she')\n",
      "('prodigy', 'drawing')\n",
      "('government', 'military')\n",
      "('Magic', 'she')\n",
      "('gift', 'something')\n",
      "('skills', 'the')\n",
      "('conflict', 'earning')\n",
      "('However', 'reconnaissance')\n",
      "('people', 'Lux')\n",
      "('Legends', 'where')\n"
     ]
    }
   ],
   "source": [
    "m_list = re.finditer(r'(?P<before>\\w+)\\W*,\\W(?P<after>\\w+)',story)\n",
    "for m in m_list:\n",
    "    print(m.groups())"
   ]
  },
  {
   "cell_type": "code",
   "execution_count": 216,
   "metadata": {},
   "outputs": [
    {
     "data": {
      "text/plain": [
       "'abc@def ghi@jkl'"
      ]
     },
     "execution_count": 216,
     "metadata": {},
     "output_type": "execute_result"
    }
   ],
   "source": [
    "re.sub(r'(\\w+)\\s(\\w+)',r'\\1@\\2','abc def ghi jkl')"
   ]
  },
  {
   "cell_type": "code",
   "execution_count": 221,
   "metadata": {},
   "outputs": [],
   "source": [
    "def repl_func(m):\n",
    "    print(m)\n",
    "    return '{}[{}]'.format(\n",
    "        m.group(1).upper(),\n",
    "        m.group(2)\n",
    "    )"
   ]
  },
  {
   "cell_type": "code",
   "execution_count": null,
   "metadata": {},
   "outputs": [],
   "source": []
  }
 ],
 "metadata": {
  "kernelspec": {
   "display_name": "Python 3",
   "language": "python",
   "name": "python3"
  },
  "language_info": {
   "codemirror_mode": {
    "name": "ipython",
    "version": 3
   },
   "file_extension": ".py",
   "mimetype": "text/x-python",
   "name": "python",
   "nbconvert_exporter": "python",
   "pygments_lexer": "ipython3",
   "version": "3.6.6"
  }
 },
 "nbformat": 4,
 "nbformat_minor": 2
}
